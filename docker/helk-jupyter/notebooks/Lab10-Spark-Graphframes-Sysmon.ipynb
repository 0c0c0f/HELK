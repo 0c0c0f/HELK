{
 "cells": [
  {
   "cell_type": "markdown",
   "metadata": {},
   "source": [
    "# Lab 10: Basic Sysmon Graphing"
   ]
  },
  {
   "cell_type": "markdown",
   "metadata": {},
   "source": [
    "## Goals:\n",
    "* Learn the basics of Graphing with Spark & Graphframes\n",
    "* Confirm Jupyter can talk to Spark & Graphframes\n",
    "* Confirm Spark & Graphframes can manipulate data from Elasticsearch\n",
    "* Create a graphframe from sysmon Index\n",
    "* Learn to create vertices and edges dataframes\n",
    "* Learning the basics of GraphFrames Motifs"
   ]
  },
  {
   "cell_type": "markdown",
   "metadata": {},
   "source": [
    "## Apache Spark, Jupyter & Elasticsearch"
   ]
  },
  {
   "cell_type": "markdown",
   "metadata": {},
   "source": [
    "## Check the current Spark Session via the variable spark"
   ]
  },
  {
   "cell_type": "markdown",
   "metadata": {},
   "source": [
    "You control your Spark Application through a driver process called the SparkSession\n",
    "* The SparkSession instance is the way Spark executes user-defined manipulations across the cluster\n",
    "* There is a one-to-one correspondence between a SparkSession and a Spark Application. \n",
    "* In Scala and Python, the variable is available as **spark** when you start the console. \n",
    "* Let’s go ahead and look at the SparkSession in Python:\n",
    "\n",
    "Reference: Chambers, Bill; Zaharia, Matei. Spark: The Definitive Guide: Big Data Processing Made Simple (Kindle Locations 436-439). O'Reilly Media. Kindle Edition. "
   ]
  },
  {
   "cell_type": "code",
   "execution_count": 1,
   "metadata": {},
   "outputs": [
    {
     "data": {
      "text/html": [
       "\n",
       "            <div>\n",
       "                <p><b>SparkSession - hive</b></p>\n",
       "                \n",
       "        <div>\n",
       "            <p><b>SparkContext</b></p>\n",
       "\n",
       "            <p><a href=\"http://10.0.1.71:4042\">Spark UI</a></p>\n",
       "\n",
       "            <dl>\n",
       "              <dt>Version</dt>\n",
       "                <dd><code>v2.3.1</code></dd>\n",
       "              <dt>Master</dt>\n",
       "                <dd><code>spark://10.0.1.50:7077</code></dd>\n",
       "              <dt>AppName</dt>\n",
       "                <dd><code>pyspark-shell</code></dd>\n",
       "            </dl>\n",
       "        </div>\n",
       "        \n",
       "            </div>\n",
       "        "
      ],
      "text/plain": [
       "<pyspark.sql.session.SparkSession at 0x7f59e476d240>"
      ]
     },
     "execution_count": 1,
     "metadata": {},
     "output_type": "execute_result"
    }
   ],
   "source": [
    "spark"
   ]
  },
  {
   "cell_type": "markdown",
   "metadata": {},
   "source": [
    "SparkSession.sparkContext returns the underlying SparkContext"
   ]
  },
  {
   "cell_type": "markdown",
   "metadata": {},
   "source": [
    "## Creating a Spark Session"
   ]
  },
  {
   "cell_type": "markdown",
   "metadata": {},
   "source": [
    "A SparkSession can be created using a builder pattern.\n",
    "* The builder automatically reuse an existing SparkContext if one exists and creates a SparkContext if it does not exist\n",
    "* You can have as many SparkSessions as you want in a single Spark application\n",
    "* The common use case is to keep relational entities separate logically in catalogs per SparkSession\n",
    "\n",
    "Reference: https://jaceklaskowski.gitbooks.io/mastering-spark-sql/spark-sql-SparkSession.html\n",
    "\n",
    "Let's create a new **Spark Session** to interact with our Elasticsearch server:"
   ]
  },
  {
   "cell_type": "code",
   "execution_count": 2,
   "metadata": {},
   "outputs": [],
   "source": [
    "es_sparksession = (SparkSession\n",
    "                  .builder\n",
    "                  .appName(\"HELK\")\n",
    "                  .config(\"es.read.field.as.array.include\", \"tags\")\n",
    "                  .config(\"es.nodes\",\"10.0.1.10:9200\")\n",
    "                  .config(\"es.net.http.auth.user\",\"elastic\")\n",
    "                  .config(\"es.net.http.auth.pass\",\"As3gura3lS3rv1d0rAm1g0!\")\n",
    "                  .getOrCreate()\n",
    ")"
   ]
  },
  {
   "cell_type": "markdown",
   "metadata": {},
   "source": [
    "## Read data from the HELK via Spark SQL"
   ]
  },
  {
   "cell_type": "markdown",
   "metadata": {},
   "source": [
    "### Using the Data Frame API to access Elasticsearch index (Elasticsearch-Sysmon Index)"
   ]
  },
  {
   "cell_type": "markdown",
   "metadata": {},
   "source": [
    "Spark SQL is a Spark module for structured data processing. It provides a programming abstraction called DataFrames and can also act as distributed SQL query engine\n",
    "* Elasticsearch becomes a native source for Spark SQL so that data can be indexed and queried from Spark SQL transparently\n",
    "* Spark SQL works with structured data - in other words, all entries are expected to have the same structure (same number of fields, of the same type and name)\n",
    "* Using unstructured data (documents with different structures) is not supported and will cause problems.\n",
    "* Through the **org.elasticsearch.spark.sql** package, esDF methods are available on the SQLContext API\n",
    "\n",
    "Reference: https://www.elastic.co/guide/en/elasticsearch/hadoop/current/spark.html"
   ]
  },
  {
   "cell_type": "code",
   "execution_count": 3,
   "metadata": {},
   "outputs": [],
   "source": [
    "es_reader = (es_sparksession\n",
    "          .read\n",
    "          .format(\"org.elasticsearch.spark.sql\")\n",
    "          .option(\"inferSchema\", \"true\")\n",
    ")"
   ]
  },
  {
   "cell_type": "code",
   "execution_count": 4,
   "metadata": {},
   "outputs": [
    {
     "name": "stdout",
     "output_type": "stream",
     "text": [
      "CPU times: user 2.1 ms, sys: 0 ns, total: 2.1 ms\n",
      "Wall time: 5.06 s\n"
     ]
    }
   ],
   "source": [
    "%%time\n",
    "sysmon_df = es_reader.load(\"logs-endpoint-winevent-sysmon-*\")"
   ]
  },
  {
   "cell_type": "markdown",
   "metadata": {},
   "source": [
    "## Import Graphframes & SQL Functions"
   ]
  },
  {
   "cell_type": "code",
   "execution_count": 7,
   "metadata": {},
   "outputs": [],
   "source": [
    "from graphframes import *\n",
    "from pyspark.sql.functions import *"
   ]
  },
  {
   "cell_type": "markdown",
   "metadata": {},
   "source": [
    "### Graphframes\n",
    "GraphFrames is a package for Apache Spark which provides DataFrame-based Graphs. \n",
    "* It provides high-level APIs in Scala, Java, and Python. \n",
    "* It aims to provide both the functionality of GraphX and extended functionality taking advantage of Spark DataFrames.\n",
    "* This extended functionality includes motif finding, DataFrame-based serialization, and highly expressive graph queries."
   ]
  },
  {
   "cell_type": "markdown",
   "metadata": {},
   "source": [
    "### But, What does it do?\n",
    "GraphFrames represent graphs: \n",
    "* Vertices (e.g., users)\n",
    "* Edges (e.g., relationships between users)."
   ]
  },
  {
   "cell_type": "code",
   "execution_count": 8,
   "metadata": {},
   "outputs": [
    {
     "name": "stdout",
     "output_type": "stream",
     "text": [
      "+---+--------+\n",
      "| id|inDegree|\n",
      "+---+--------+\n",
      "|  c|       1|\n",
      "|  b|       2|\n",
      "+---+--------+\n",
      "\n",
      "CPU times: user 185 ms, sys: 12.5 ms, total: 198 ms\n",
      "Wall time: 11.2 s\n"
     ]
    }
   ],
   "source": [
    "%%time\n",
    "# Create a Vertex DataFrame with unique ID column \"id\"# Creat \n",
    "v = sqlContext.createDataFrame([\n",
    "  (\"a\", \"Alice\", 34),\n",
    "  (\"b\", \"Bob\", 36),\n",
    "  (\"c\", \"Charlie\", 30),\n",
    "], [\"id\", \"name\", \"age\"])\n",
    "# Create an Edge DataFrame with \"src\" and \"dst\" columns\n",
    "e = sqlContext.createDataFrame([\n",
    "  (\"a\", \"b\", \"friend\"),\n",
    "  (\"b\", \"c\", \"follow\"),\n",
    "  (\"c\", \"b\", \"follow\"),\n",
    "], [\"src\", \"dst\", \"relationship\"])\n",
    "# Create a GraphFrame\n",
    "from graphframes import *\n",
    "g = GraphFrame(v, e)\n",
    "\n",
    "# Query: Get in-degree of each vertex.\n",
    "g.inDegrees.show()\n",
    "\n",
    "# Query: Count the number of \"follow\" connections in the graph.\n",
    "g.edges.filter(\"relationship = 'follow'\").count()"
   ]
  },
  {
   "cell_type": "markdown",
   "metadata": {},
   "source": [
    "# ProcessCreate & Motifs"
   ]
  },
  {
   "cell_type": "markdown",
   "metadata": {},
   "source": [
    "## Create Vertices Dataframe"
   ]
  },
  {
   "cell_type": "markdown",
   "metadata": {},
   "source": [
    "We are going to replace the columna name from **process_guid** to **id** because thats the value that graphframes uses\n",
    "\n",
    "**withColumn**(colName, col)\n",
    "* Returns a new DataFrame by adding a column or replacing the existing column that has the same name.\n",
    "\n",
    "Parameters:\t\n",
    "* **colName** – string, name of the new column.\n",
    "* **col** – a Column expression for the new column.\n"
   ]
  },
  {
   "cell_type": "code",
   "execution_count": 10,
   "metadata": {},
   "outputs": [],
   "source": [
    "vertices = (sysmon_df.withColumn(\"id\", sysmon_df.process_guid)\n",
    "            .select(\"id\",\"user_name\",\"host_name\",\"process_parent_name\",\"process_name\",\"action\")\n",
    "           )\n",
    "vertices = vertices.filter(vertices.action == \"processcreate\")"
   ]
  },
  {
   "cell_type": "code",
   "execution_count": 15,
   "metadata": {},
   "outputs": [
    {
     "name": "stdout",
     "output_type": "stream",
     "text": [
      "+------------------------------------+-------------+---------------------------+-------------------+------------+-------------+\n",
      "|id                                  |user_name    |host_name                  |process_parent_name|process_name|action       |\n",
      "+------------------------------------+-------------+---------------------------+-------------------+------------+-------------+\n",
      "|CB6FAB7D-3834-5B99-0000-001057337A01|local service|WDRD005.thehuntingelk.local|services.exe       |taskhost.exe|processcreate|\n",
      "|0300CBFA-3849-5B99-0000-001068EF9C00|local service|WDFN004.thehuntingelk.local|services.exe       |taskhost.exe|processcreate|\n",
      "|51B208EE-38C8-5B99-0000-0010DF499B00|local service|WDHR002.thehuntingelk.local|services.exe       |taskhost.exe|processcreate|\n",
      "|5CFEADD3-3943-5B99-0000-001022937B01|local service|WDRD001.thehuntingelk.local|services.exe       |taskhost.exe|processcreate|\n",
      "|7F66EA28-3977-5B99-0000-0010CF65F900|local service|WDHR005.thehuntingelk.local|services.exe       |taskhost.exe|processcreate|\n",
      "+------------------------------------+-------------+---------------------------+-------------------+------------+-------------+\n",
      "only showing top 5 rows\n",
      "\n",
      "CPU times: user 1.8 ms, sys: 136 µs, total: 1.94 ms\n",
      "Wall time: 286 ms\n"
     ]
    }
   ],
   "source": [
    "%%time\n",
    "vertices.show(5,truncate=False)"
   ]
  },
  {
   "cell_type": "markdown",
   "metadata": {},
   "source": [
    "## Create Edges Dataframe"
   ]
  },
  {
   "cell_type": "markdown",
   "metadata": {},
   "source": [
    "We are going to make sure we also rename our **process_parent_guid** to **src** and **process_guid** to **dst**. This is to look for that relationship across our whole environment"
   ]
  },
  {
   "cell_type": "markdown",
   "metadata": {},
   "source": [
    "**selectExpr**\n",
    "\n",
    "You can also combine selecting columns and renaming columns in a single step with selectExpr"
   ]
  },
  {
   "cell_type": "code",
   "execution_count": 17,
   "metadata": {},
   "outputs": [],
   "source": [
    "edges = (sysmon_df\n",
    "         .filter(sysmon_df.action == \"processcreate\")\n",
    "         .selectExpr(\"process_parent_guid as src\",\"process_guid as dst\")\n",
    "         .withColumn(\"relationship\", lit(\"spawned\"))\n",
    "        )"
   ]
  },
  {
   "cell_type": "code",
   "execution_count": 18,
   "metadata": {},
   "outputs": [
    {
     "name": "stdout",
     "output_type": "stream",
     "text": [
      "+------------------------------------+------------------------------------+------------+\n",
      "|src                                 |dst                                 |relationship|\n",
      "+------------------------------------+------------------------------------+------------+\n",
      "|8A57C8BC-4E83-5B98-0000-0010B66B0000|8A57C8BC-B7C0-5B99-0000-0010E286C800|spawned     |\n",
      "|5CFEADD3-4E41-5B98-0000-0010809B0000|5CFEADD3-B7BB-5B99-0000-0010E4142502|spawned     |\n",
      "|B4F10000-B7D3-5B99-0000-00105A8B0E02|B4F10000-B7D4-5B99-0000-00109DF40E02|spawned     |\n",
      "|B4F10000-B7A5-5B99-0000-0010FFCB0502|B4F10000-B7D5-5B99-0000-001051470F02|spawned     |\n",
      "|B4F10000-B7A4-5B99-0000-0010C6920502|B4F10000-B7D3-5B99-0000-00105A8B0E02|spawned     |\n",
      "+------------------------------------+------------------------------------+------------+\n",
      "only showing top 5 rows\n",
      "\n",
      "CPU times: user 0 ns, sys: 2.62 ms, total: 2.62 ms\n",
      "Wall time: 4.86 s\n"
     ]
    }
   ],
   "source": [
    "%%time\n",
    "edges.show(5,truncate=False)"
   ]
  },
  {
   "cell_type": "markdown",
   "metadata": {},
   "source": [
    "## Create a Graph (Vertices & Edges DataFrames)"
   ]
  },
  {
   "cell_type": "code",
   "execution_count": 19,
   "metadata": {},
   "outputs": [],
   "source": [
    "g = GraphFrame(vertices, edges)"
   ]
  },
  {
   "cell_type": "markdown",
   "metadata": {},
   "source": [
    "## Process A spawning Process B AND Process B Spawning Process C"
   ]
  },
  {
   "cell_type": "code",
   "execution_count": 20,
   "metadata": {},
   "outputs": [
    {
     "name": "stdout",
     "output_type": "stream",
     "text": [
      "CPU times: user 1.64 ms, sys: 0 ns, total: 1.64 ms\n",
      "Wall time: 1.15 s\n"
     ]
    }
   ],
   "source": [
    "%%time\n",
    "motifs = g.find(\"(a)-[]->(b);(b)-[]->(c)\")"
   ]
  },
  {
   "cell_type": "code",
   "execution_count": 22,
   "metadata": {},
   "outputs": [
    {
     "name": "stdout",
     "output_type": "stream",
     "text": [
      "+-------------------+------------+--------------------------+--------------+\n",
      "|process_parent_name|process_name|process_name              |process_name  |\n",
      "+-------------------+------------+--------------------------+--------------+\n",
      "|smss.exe           |wininit.exe |services.exe              |svchost.exe   |\n",
      "|winlogon.exe       |userinit.exe|explorer.exe              |ie4uinit.exe  |\n",
      "|services.exe       |msiexec.exe |msiexec.exe               |regtlibv12.exe|\n",
      "|msiexec.exe        |msiexec.exe |ngen.exe                  |mscorsvw.exe  |\n",
      "|msiexec.exe        |msiexec.exe |ngen.exe                  |mscorsvw.exe  |\n",
      "|wininit.exe        |services.exe|mscorsvw.exe              |mscorsvw.exe  |\n",
      "|wininit.exe        |services.exe|mscorsvw.exe              |mscorsvw.exe  |\n",
      "|wininit.exe        |services.exe|mscorsvw.exe              |mscorsvw.exe  |\n",
      "|wininit.exe        |services.exe|mscorsvw.exe              |mscorsvw.exe  |\n",
      "|wininit.exe        |services.exe|mscorsvw.exe              |mscorsvw.exe  |\n",
      "|smss.exe           |smss.exe    |csrss.exe                 |conhost.exe   |\n",
      "|msiexec.exe        |msiexec.exe |ngen.exe                  |mscorsvw.exe  |\n",
      "|wininit.exe        |services.exe|WindowsAzureGuestAgent.exe|cmd.exe       |\n",
      "|wininit.exe        |services.exe|mscorsvw.exe              |mscorsvw.exe  |\n",
      "|wininit.exe        |services.exe|mscorsvw.exe              |mscorsvw.exe  |\n",
      "|wininit.exe        |services.exe|mscorsvw.exe              |mscorsvw.exe  |\n",
      "|wininit.exe        |services.exe|mscorsvw.exe              |mscorsvw.exe  |\n",
      "|wininit.exe        |services.exe|mscorsvw.exe              |mscorsvw.exe  |\n",
      "|wininit.exe        |services.exe|mscorsvw.exe              |mscorsvw.exe  |\n",
      "|winlogon.exe       |userinit.exe|explorer.exe              |regsvr32.exe  |\n",
      "+-------------------+------------+--------------------------+--------------+\n",
      "only showing top 20 rows\n",
      "\n",
      "CPU times: user 4.61 ms, sys: 50 µs, total: 4.66 ms\n",
      "Wall time: 13.4 s\n"
     ]
    }
   ],
   "source": [
    "%%time\n",
    "(motifs\n",
    "     .select(\"a.process_parent_name\",\"a.process_name\",\"b.process_name\",\"c.process_name\")\n",
    "     .show(20,truncate=False)\n",
    ")"
   ]
  },
  {
   "cell_type": "code",
   "execution_count": 26,
   "metadata": {},
   "outputs": [
    {
     "name": "stdout",
     "output_type": "stream",
     "text": [
      "+--------------------+-----+\n",
      "| process_parent_name|count|\n",
      "+--------------------+-----+\n",
      "|         explore.exe|    1|\n",
      "|        regsvr32.exe|    2|\n",
      "|     syslauncher.exe|    2|\n",
      "|      powershell.exe|    9|\n",
      "|WindowsAzureGuest...|   10|\n",
      "|        WmiPrvSE.exe|   11|\n",
      "|      WaAppAgent.exe|   26|\n",
      "|             cmd.exe|   52|\n",
      "|         svchost.exe|   54|\n",
      "|        explorer.exe|   58|\n",
      "+--------------------+-----+\n",
      "only showing top 10 rows\n",
      "\n",
      "CPU times: user 4.81 ms, sys: 868 µs, total: 5.68 ms\n",
      "Wall time: 15.1 s\n"
     ]
    }
   ],
   "source": [
    "%%time\n",
    "motifs.groupby('a.process_parent_name').count().sort('count').show(10)"
   ]
  },
  {
   "cell_type": "markdown",
   "metadata": {},
   "source": [
    "### HOW CAN YOU GO DEEPER NOW AND GET MORE INFORMATION ABOUT THOSE?? IT IS NOT EXPLORE.EXE BY ITSELF ANYMORE.."
   ]
  },
  {
   "cell_type": "markdown",
   "metadata": {},
   "source": [
    "syslauncher???"
   ]
  }
 ],
 "metadata": {
  "kernelspec": {
   "display_name": "PySpark_Python3",
   "language": "python",
   "name": "pyspark3"
  },
  "language_info": {
   "codemirror_mode": {
    "name": "ipython",
    "version": 3
   },
   "file_extension": ".py",
   "mimetype": "text/x-python",
   "name": "python",
   "nbconvert_exporter": "python",
   "pygments_lexer": "ipython3",
   "version": "3.5.2"
  }
 },
 "nbformat": 4,
 "nbformat_minor": 2
}
