{
 "cells": [
  {
   "cell_type": "markdown",
   "metadata": {},
   "source": [
    "# Lab 3: Exploring JupyterLab & Apache Spark"
   ]
  },
  {
   "cell_type": "markdown",
   "metadata": {},
   "source": [
    "## Goals:\n",
    "* Basic Python Exercise\n",
    "* Set variables and learn basic operations\n",
    "* Understand differences in data structures\n",
    "* Code basic if statements and for loops\n",
    "* Get familiarized with JupyterLabs Interface\n",
    "* Ensure JupyterLab Server is communicating with our Spark Cluster\n",
    "* Ensure JupyterLab Server, Spark Cluster & Elasticsearch are communicating"
   ]
  },
  {
   "cell_type": "markdown",
   "metadata": {},
   "source": [
    "## Basic Python Exercise"
   ]
  },
  {
   "cell_type": "markdown",
   "metadata": {},
   "source": [
    "Let's get started with some language basics for Python.\n",
    "* Set variables and learn basic operations\n",
    "* Understand differences in data structures\n",
    "* Code if statements and for loops"
   ]
  },
  {
   "cell_type": "markdown",
   "metadata": {},
   "source": [
    "### Print statement"
   ]
  },
  {
   "cell_type": "code",
   "execution_count": 1,
   "metadata": {},
   "outputs": [
    {
     "name": "stdout",
     "output_type": "stream",
     "text": [
      "Hello Helk!\n"
     ]
    }
   ],
   "source": [
    "print(\"Hello Helk!\")"
   ]
  },
  {
   "cell_type": "markdown",
   "metadata": {},
   "source": [
    "### Basic Operations"
   ]
  },
  {
   "cell_type": "code",
   "execution_count": 2,
   "metadata": {},
   "outputs": [
    {
     "data": {
      "text/plain": [
       "6"
      ]
     },
     "execution_count": 2,
     "metadata": {},
     "output_type": "execute_result"
    }
   ],
   "source": [
    "2+4"
   ]
  },
  {
   "cell_type": "code",
   "execution_count": 3,
   "metadata": {},
   "outputs": [
    {
     "data": {
      "text/plain": [
       "30"
      ]
     },
     "execution_count": 3,
     "metadata": {},
     "output_type": "execute_result"
    }
   ],
   "source": [
    "5*6"
   ]
  },
  {
   "cell_type": "markdown",
   "metadata": {},
   "source": [
    "### Setting variables"
   ]
  },
  {
   "cell_type": "markdown",
   "metadata": {},
   "source": [
    "A variable can have a short name (like x and y) or a more descriptive name (age, dog, owner).\n",
    "Rules for Python variables:\n",
    "* A variable name must start with a letter or the underscore character\n",
    "* A variable name cannot start with a number\n",
    "* A variable name can only contain alpha-numeric characters and underscores (A-z, 0-9, and _ )\n",
    "* Variable names are case-sensitive (age, Age and AGE are three different variables)\n",
    "\n",
    "Reference:https://www.w3schools.com/python/python_variables.asp"
   ]
  },
  {
   "cell_type": "code",
   "execution_count": 4,
   "metadata": {},
   "outputs": [],
   "source": [
    "dog_name = 'Pedro'\n",
    "age = 3\n",
    "is_vaccinated = True\n",
    "birth_year = 2015"
   ]
  },
  {
   "cell_type": "code",
   "execution_count": 5,
   "metadata": {},
   "outputs": [
    {
     "data": {
      "text/plain": [
       "True"
      ]
     },
     "execution_count": 5,
     "metadata": {},
     "output_type": "execute_result"
    }
   ],
   "source": [
    "is_vaccinated"
   ]
  },
  {
   "cell_type": "code",
   "execution_count": 6,
   "metadata": {},
   "outputs": [
    {
     "data": {
      "text/plain": [
       "'Pedro'"
      ]
     },
     "execution_count": 6,
     "metadata": {},
     "output_type": "execute_result"
    }
   ],
   "source": [
    "dog_name"
   ]
  },
  {
   "cell_type": "markdown",
   "metadata": {},
   "source": [
    "### Data Types"
   ]
  },
  {
   "cell_type": "markdown",
   "metadata": {},
   "source": [
    "reference: https://realpython.com/python-data-types/"
   ]
  },
  {
   "cell_type": "markdown",
   "metadata": {},
   "source": [
    "**Integers**\n",
    "* In Python 3, there is effectively no limit to how long an integer value can be\n",
    "* It is constrained by the amount of memory your system has\n",
    "* Python interprets a sequence of decimal digits without any prefix to be a decimal number"
   ]
  },
  {
   "cell_type": "code",
   "execution_count": 7,
   "metadata": {},
   "outputs": [
    {
     "data": {
      "text/plain": [
       "int"
      ]
     },
     "execution_count": 7,
     "metadata": {},
     "output_type": "execute_result"
    }
   ],
   "source": [
    "type(age)"
   ]
  },
  {
   "cell_type": "markdown",
   "metadata": {},
   "source": [
    "**Strings**\n",
    "* Strings are sequences of character data. The string type in Python is called str\n",
    "* String literals may be delimited using either single or double quotes\n",
    "* All the characters between the opening delimiter and matching closing delimiter are part of the string"
   ]
  },
  {
   "cell_type": "code",
   "execution_count": 8,
   "metadata": {},
   "outputs": [
    {
     "data": {
      "text/plain": [
       "str"
      ]
     },
     "execution_count": 8,
     "metadata": {},
     "output_type": "execute_result"
    }
   ],
   "source": [
    "type(dog_name)"
   ]
  },
  {
   "cell_type": "markdown",
   "metadata": {},
   "source": [
    "**Boolean**\n",
    "* Python 3 provides a Boolean data type.\n",
    "* Objects of Boolean type may have one of two values, True or False"
   ]
  },
  {
   "cell_type": "code",
   "execution_count": 9,
   "metadata": {},
   "outputs": [
    {
     "data": {
      "text/plain": [
       "bool"
      ]
     },
     "execution_count": 9,
     "metadata": {},
     "output_type": "execute_result"
    }
   ],
   "source": [
    "type(is_vaccinated)"
   ]
  },
  {
   "cell_type": "markdown",
   "metadata": {},
   "source": [
    "### Combining variables and operations"
   ]
  },
  {
   "cell_type": "code",
   "execution_count": 10,
   "metadata": {},
   "outputs": [],
   "source": [
    "x = 4\n",
    "y = 10"
   ]
  },
  {
   "cell_type": "code",
   "execution_count": 11,
   "metadata": {},
   "outputs": [
    {
     "data": {
      "text/plain": [
       "-6"
      ]
     },
     "execution_count": 11,
     "metadata": {},
     "output_type": "execute_result"
    }
   ],
   "source": [
    "x-y"
   ]
  },
  {
   "cell_type": "code",
   "execution_count": 12,
   "metadata": {},
   "outputs": [
    {
     "data": {
      "text/plain": [
       "40"
      ]
     },
     "execution_count": 12,
     "metadata": {},
     "output_type": "execute_result"
    }
   ],
   "source": [
    "x*y"
   ]
  },
  {
   "cell_type": "code",
   "execution_count": 13,
   "metadata": {},
   "outputs": [
    {
     "data": {
      "text/plain": [
       "2.5"
      ]
     },
     "execution_count": 13,
     "metadata": {},
     "output_type": "execute_result"
    }
   ],
   "source": [
    "y/x"
   ]
  },
  {
   "cell_type": "code",
   "execution_count": 14,
   "metadata": {},
   "outputs": [
    {
     "data": {
      "text/plain": [
       "10000"
      ]
     },
     "execution_count": 14,
     "metadata": {},
     "output_type": "execute_result"
    }
   ],
   "source": [
    "y**x"
   ]
  },
  {
   "cell_type": "code",
   "execution_count": 15,
   "metadata": {},
   "outputs": [
    {
     "data": {
      "text/plain": [
       "False"
      ]
     },
     "execution_count": 15,
     "metadata": {},
     "output_type": "execute_result"
    }
   ],
   "source": [
    "x>y"
   ]
  },
  {
   "cell_type": "code",
   "execution_count": 16,
   "metadata": {},
   "outputs": [
    {
     "data": {
      "text/plain": [
       "False"
      ]
     },
     "execution_count": 16,
     "metadata": {},
     "output_type": "execute_result"
    }
   ],
   "source": [
    "x==y"
   ]
  },
  {
   "cell_type": "code",
   "execution_count": 17,
   "metadata": {},
   "outputs": [
    {
     "data": {
      "text/plain": [
       "True"
      ]
     },
     "execution_count": 17,
     "metadata": {},
     "output_type": "execute_result"
    }
   ],
   "source": [
    "x<y"
   ]
  },
  {
   "cell_type": "markdown",
   "metadata": {},
   "source": [
    "### Data structures"
   ]
  },
  {
   "cell_type": "markdown",
   "metadata": {},
   "source": [
    "References: \n",
    "* https://realpython.com/python-lists-tuples/\n",
    "* https://realpython.com/python-dicts/"
   ]
  },
  {
   "cell_type": "markdown",
   "metadata": {},
   "source": [
    "#### Lists\n",
    "* They are a collection of arbitrary objects, somewhat akin to an array in many other programming languages but more flexible.\n",
    "* Lists are defined in Python by enclosing a comma-separated sequence of objects in square brackets ([])\n",
    "* The important characteristics of Python lists are as follows:\n",
    "  * Lists are ordered.\n",
    "  * Lists can contain any arbitrary objects.\n",
    "  * List elements can be accessed by index.\n",
    "  * Lists can be nested to arbitrary depth.\n",
    "  * Lists are mutable.\n",
    "  * Lists are dynamic."
   ]
  },
  {
   "cell_type": "code",
   "execution_count": 18,
   "metadata": {},
   "outputs": [],
   "source": [
    "my_dog_list=['Pedro',3,True,2015]"
   ]
  },
  {
   "cell_type": "code",
   "execution_count": 19,
   "metadata": {},
   "outputs": [
    {
     "data": {
      "text/plain": [
       "'Pedro'"
      ]
     },
     "execution_count": 19,
     "metadata": {},
     "output_type": "execute_result"
    }
   ],
   "source": [
    "my_dog_list[0]"
   ]
  },
  {
   "cell_type": "code",
   "execution_count": 20,
   "metadata": {},
   "outputs": [
    {
     "data": {
      "text/plain": [
       "[True, 2015]"
      ]
     },
     "execution_count": 20,
     "metadata": {},
     "output_type": "execute_result"
    }
   ],
   "source": [
    "my_dog_list[2:4]"
   ]
  },
  {
   "cell_type": "code",
   "execution_count": 21,
   "metadata": {},
   "outputs": [
    {
     "name": "stdout",
     "output_type": "stream",
     "text": [
      "My dog's name is Pedro and he is 3 years old.\n"
     ]
    }
   ],
   "source": [
    "print(\"My dog's name is \" + str(my_dog_list[0]) + \" and he is \" + str(my_dog_list[1]) + \" years old.\")"
   ]
  },
  {
   "cell_type": "code",
   "execution_count": 22,
   "metadata": {},
   "outputs": [],
   "source": [
    "my_dog_list.append(\"tennis balls\")"
   ]
  },
  {
   "cell_type": "code",
   "execution_count": 23,
   "metadata": {},
   "outputs": [
    {
     "data": {
      "text/plain": [
       "['Pedro', 3, True, 2015, 'tennis balls']"
      ]
     },
     "execution_count": 23,
     "metadata": {},
     "output_type": "execute_result"
    }
   ],
   "source": [
    "my_dog_list"
   ]
  },
  {
   "cell_type": "markdown",
   "metadata": {},
   "source": [
    "### Tuples\n",
    "* Tuples are identical to lists in all respects, except for the following properties:\n",
    "  * Tuples are defined by enclosing the elements in parentheses (()) instead of square brackets ([]).\n",
    "  * Tuples are immutable.\n",
    "* Even though tuples are defined using parentheses, you still index and slice tuples using square brackets, just as for strings and lists\n",
    "* Sometimes you don’t want data to be modified. If the values in the collection are meant to remain constant for the life of the program, using a tuple instead of a list guards against accidental modification"
   ]
  },
  {
   "cell_type": "code",
   "execution_count": 24,
   "metadata": {},
   "outputs": [],
   "source": [
    "my_dog_tuple=('Pedro',3,True,2015)"
   ]
  },
  {
   "cell_type": "code",
   "execution_count": 25,
   "metadata": {},
   "outputs": [
    {
     "data": {
      "text/plain": [
       "('Pedro', 3, True, 2015)"
      ]
     },
     "execution_count": 25,
     "metadata": {},
     "output_type": "execute_result"
    }
   ],
   "source": [
    "my_dog_tuple"
   ]
  },
  {
   "cell_type": "code",
   "execution_count": 26,
   "metadata": {},
   "outputs": [
    {
     "data": {
      "text/plain": [
       "3"
      ]
     },
     "execution_count": 26,
     "metadata": {},
     "output_type": "execute_result"
    }
   ],
   "source": [
    "my_dog_tuple[1]"
   ]
  },
  {
   "cell_type": "markdown",
   "metadata": {},
   "source": [
    "#### Dictionaries\n",
    "* Dictionaries are Python’s implementation of a data structure that is more generally known as an associative array\n",
    "* A dictionary consists of a collection of key-value pairs. Each key-value pair maps the key to its associated value\n",
    "* You can define a dictionary by enclosing a comma-separated list of key-value pairs in curly braces ({})\n",
    "* A colon (:) separates each key from its associated value"
   ]
  },
  {
   "cell_type": "code",
   "execution_count": 27,
   "metadata": {},
   "outputs": [],
   "source": [
    "my_dog_dict={'name':'Pedro','age':3,'is_vaccinated':True,'birth_year':2015}"
   ]
  },
  {
   "cell_type": "code",
   "execution_count": 28,
   "metadata": {},
   "outputs": [
    {
     "data": {
      "text/plain": [
       "{'age': 3, 'birth_year': 2015, 'is_vaccinated': True, 'name': 'Pedro'}"
      ]
     },
     "execution_count": 28,
     "metadata": {},
     "output_type": "execute_result"
    }
   ],
   "source": [
    "my_dog_dict"
   ]
  },
  {
   "cell_type": "code",
   "execution_count": 29,
   "metadata": {},
   "outputs": [
    {
     "data": {
      "text/plain": [
       "3"
      ]
     },
     "execution_count": 29,
     "metadata": {},
     "output_type": "execute_result"
    }
   ],
   "source": [
    "my_dog_dict['age']"
   ]
  },
  {
   "cell_type": "code",
   "execution_count": 30,
   "metadata": {},
   "outputs": [
    {
     "data": {
      "text/plain": [
       "dict_keys(['age', 'birth_year', 'name', 'is_vaccinated'])"
      ]
     },
     "execution_count": 30,
     "metadata": {},
     "output_type": "execute_result"
    }
   ],
   "source": [
    "my_dog_dict.keys()"
   ]
  },
  {
   "cell_type": "code",
   "execution_count": 31,
   "metadata": {},
   "outputs": [
    {
     "data": {
      "text/plain": [
       "dict_values([3, 2015, 'Pedro', True])"
      ]
     },
     "execution_count": 31,
     "metadata": {},
     "output_type": "execute_result"
    }
   ],
   "source": [
    "my_dog_dict.values()"
   ]
  },
  {
   "cell_type": "markdown",
   "metadata": {},
   "source": [
    "### IF statements"
   ]
  },
  {
   "cell_type": "code",
   "execution_count": 32,
   "metadata": {},
   "outputs": [
    {
     "name": "stdout",
     "output_type": "stream",
     "text": [
      "x = 4\n",
      "y = 10\n"
     ]
    }
   ],
   "source": [
    "print(\"x = \" + str(x))\n",
    "print(\"y = \" + str(y))"
   ]
  },
  {
   "cell_type": "code",
   "execution_count": 33,
   "metadata": {},
   "outputs": [
    {
     "name": "stdout",
     "output_type": "stream",
     "text": [
      "no\n"
     ]
    }
   ],
   "source": [
    "if x==y:\n",
    "    print('yes')\n",
    "else:\n",
    "    print('no')"
   ]
  },
  {
   "cell_type": "markdown",
   "metadata": {},
   "source": [
    "### FOR Loops"
   ]
  },
  {
   "cell_type": "code",
   "execution_count": 34,
   "metadata": {},
   "outputs": [
    {
     "name": "stdout",
     "output_type": "stream",
     "text": [
      "Pedro\n",
      "3\n",
      "True\n",
      "2015\n",
      "tennis balls\n"
     ]
    }
   ],
   "source": [
    "for item in my_dog_list:\n",
    "    print(item)"
   ]
  },
  {
   "cell_type": "code",
   "execution_count": 35,
   "metadata": {},
   "outputs": [
    {
     "name": "stdout",
     "output_type": "stream",
     "text": [
      "0\n",
      "10\n",
      "20\n",
      "30\n",
      "40\n",
      "50\n",
      "60\n",
      "70\n",
      "80\n",
      "90\n"
     ]
    }
   ],
   "source": [
    "for i in range(0,10):\n",
    "    print(i*10)"
   ]
  },
  {
   "cell_type": "markdown",
   "metadata": {},
   "source": [
    "## Apache Spark, Jupyter & Elasticsearch"
   ]
  },
  {
   "cell_type": "markdown",
   "metadata": {},
   "source": [
    "## Check the current Spark Session via the variable spark"
   ]
  },
  {
   "cell_type": "markdown",
   "metadata": {},
   "source": [
    "You control your Spark Application through a driver process called the SparkSession\n",
    "* The SparkSession instance is the way Spark executes user-defined manipulations across the cluster\n",
    "* There is a one-to-one correspondence between a SparkSession and a Spark Application. \n",
    "* In Scala and Python, the variable is available as **spark** when you start the console. \n",
    "* Let’s go ahead and look at the SparkSession in Python:\n",
    "\n",
    "Reference: Chambers, Bill; Zaharia, Matei. Spark: The Definitive Guide: Big Data Processing Made Simple (Kindle Locations 436-439). O'Reilly Media. Kindle Edition. "
   ]
  },
  {
   "cell_type": "code",
   "execution_count": 36,
   "metadata": {},
   "outputs": [
    {
     "data": {
      "text/html": [
       "\n",
       "            <div>\n",
       "                <p><b>SparkSession - hive</b></p>\n",
       "                \n",
       "        <div>\n",
       "            <p><b>SparkContext</b></p>\n",
       "\n",
       "            <p><a href=\"http://10.0.1.71:4044\">Spark UI</a></p>\n",
       "\n",
       "            <dl>\n",
       "              <dt>Version</dt>\n",
       "                <dd><code>v2.3.1</code></dd>\n",
       "              <dt>Master</dt>\n",
       "                <dd><code>spark://10.0.1.50:7077</code></dd>\n",
       "              <dt>AppName</dt>\n",
       "                <dd><code>pyspark-shell</code></dd>\n",
       "            </dl>\n",
       "        </div>\n",
       "        \n",
       "            </div>\n",
       "        "
      ],
      "text/plain": [
       "<pyspark.sql.session.SparkSession at 0x7f6a623cb240>"
      ]
     },
     "execution_count": 36,
     "metadata": {},
     "output_type": "execute_result"
    }
   ],
   "source": [
    "spark"
   ]
  },
  {
   "cell_type": "markdown",
   "metadata": {},
   "source": [
    "SparkSession.sparkContext returns the underlying SparkContext"
   ]
  },
  {
   "cell_type": "code",
   "execution_count": 37,
   "metadata": {},
   "outputs": [
    {
     "data": {
      "text/html": [
       "\n",
       "        <div>\n",
       "            <p><b>SparkContext</b></p>\n",
       "\n",
       "            <p><a href=\"http://10.0.1.71:4044\">Spark UI</a></p>\n",
       "\n",
       "            <dl>\n",
       "              <dt>Version</dt>\n",
       "                <dd><code>v2.3.1</code></dd>\n",
       "              <dt>Master</dt>\n",
       "                <dd><code>spark://10.0.1.50:7077</code></dd>\n",
       "              <dt>AppName</dt>\n",
       "                <dd><code>pyspark-shell</code></dd>\n",
       "            </dl>\n",
       "        </div>\n",
       "        "
      ],
      "text/plain": [
       "<SparkContext master=spark://10.0.1.50:7077 appName=pyspark-shell>"
      ]
     },
     "execution_count": 37,
     "metadata": {},
     "output_type": "execute_result"
    }
   ],
   "source": [
    "spark.sparkContext"
   ]
  },
  {
   "cell_type": "markdown",
   "metadata": {},
   "source": [
    "## Creating a Spark Session"
   ]
  },
  {
   "cell_type": "markdown",
   "metadata": {},
   "source": [
    "A SparkSession can be created using a builder pattern.\n",
    "* The builder automatically reuse an existing SparkContext if one exists and creates a SparkContext if it does not exist\n",
    "* You can have as many SparkSessions as you want in a single Spark application\n",
    "* The common use case is to keep relational entities separate logically in catalogs per SparkSession\n",
    "\n",
    "Reference: https://jaceklaskowski.gitbooks.io/mastering-spark-sql/spark-sql-SparkSession.html\n",
    "\n",
    "Let's create a new **Spark Session** to interact with our Elasticsearch server:"
   ]
  },
  {
   "cell_type": "code",
   "execution_count": 38,
   "metadata": {},
   "outputs": [],
   "source": [
    "es_sparksession = (SparkSession\n",
    "                  .builder\n",
    "                  .appName(\"HELK\")\n",
    "                  .config(\"es.read.field.as.array.include\", \"tags\")\n",
    "                  .config(\"es.nodes\",\"10.0.1.10:9200\")\n",
    "                  .config(\"es.net.http.auth.user\",\"elastic\")\n",
    "                  .config(\"es.net.http.auth.pass\",\"As3gura3lS3rv1d0rAm1g0!\")\n",
    "                  .getOrCreate()\n",
    ")"
   ]
  },
  {
   "cell_type": "markdown",
   "metadata": {},
   "source": [
    "Our new **Spark Session** reuses the existing **Spark Context**"
   ]
  },
  {
   "cell_type": "code",
   "execution_count": 39,
   "metadata": {},
   "outputs": [
    {
     "data": {
      "text/html": [
       "\n",
       "        <div>\n",
       "            <p><b>SparkContext</b></p>\n",
       "\n",
       "            <p><a href=\"http://10.0.1.71:4044\">Spark UI</a></p>\n",
       "\n",
       "            <dl>\n",
       "              <dt>Version</dt>\n",
       "                <dd><code>v2.3.1</code></dd>\n",
       "              <dt>Master</dt>\n",
       "                <dd><code>spark://10.0.1.50:7077</code></dd>\n",
       "              <dt>AppName</dt>\n",
       "                <dd><code>pyspark-shell</code></dd>\n",
       "            </dl>\n",
       "        </div>\n",
       "        "
      ],
      "text/plain": [
       "<SparkContext master=spark://10.0.1.50:7077 appName=pyspark-shell>"
      ]
     },
     "execution_count": 39,
     "metadata": {},
     "output_type": "execute_result"
    }
   ],
   "source": [
    "es_sparksession.sparkContext"
   ]
  },
  {
   "cell_type": "markdown",
   "metadata": {},
   "source": [
    "## Read data from the HELK via Spark SQL"
   ]
  },
  {
   "cell_type": "markdown",
   "metadata": {},
   "source": [
    "### Using the Data Frame API to access Elasticsearch index (Elasticsearch-Sysmon Index)"
   ]
  },
  {
   "cell_type": "markdown",
   "metadata": {},
   "source": [
    "Spark SQL is a Spark module for structured data processing. It provides a programming abstraction called DataFrames and can also act as distributed SQL query engine\n",
    "* Elasticsearch becomes a native source for Spark SQL so that data can be indexed and queried from Spark SQL transparently\n",
    "* Spark SQL works with structured data - in other words, all entries are expected to have the same structure (same number of fields, of the same type and name)\n",
    "* Using unstructured data (documents with different structures) is not supported and will cause problems.\n",
    "* Through the **org.elasticsearch.spark.sql** package, esDF methods are available on the SQLContext API\n",
    "\n",
    "Reference: https://www.elastic.co/guide/en/elasticsearch/hadoop/current/spark.html"
   ]
  },
  {
   "cell_type": "code",
   "execution_count": 40,
   "metadata": {},
   "outputs": [],
   "source": [
    "es_reader = (es_sparksession\n",
    "          .read\n",
    "          .format(\"org.elasticsearch.spark.sql\")\n",
    "          .option(\"inferSchema\", \"true\")\n",
    ")"
   ]
  },
  {
   "cell_type": "code",
   "execution_count": 41,
   "metadata": {},
   "outputs": [],
   "source": [
    "es_sysmon = es_reader.load(\"logs-endpoint-winevent-sysmon-*/doc\")"
   ]
  },
  {
   "cell_type": "markdown",
   "metadata": {},
   "source": [
    "**Load**: Loads data from a data source and returns it as a :class`DataFrame`.\n",
    "Reference: http://spark.apache.org/docs/2.2.0/api/python/pyspark.sql.html#pyspark.sql.DataFrameReader.load"
   ]
  },
  {
   "cell_type": "markdown",
   "metadata": {},
   "source": [
    "## Print DataFrame Schema"
   ]
  },
  {
   "cell_type": "code",
   "execution_count": 42,
   "metadata": {},
   "outputs": [
    {
     "name": "stdout",
     "output_type": "stream",
     "text": [
      "root\n",
      " |-- @date_creation: timestamp (nullable = true)\n",
      " |-- @date_creation_previous: timestamp (nullable = true)\n",
      " |-- @timestamp: timestamp (nullable = true)\n",
      " |-- @version: string (nullable = true)\n",
      " |-- Company: string (nullable = true)\n",
      " |-- Consumer: string (nullable = true)\n",
      " |-- Description: string (nullable = true)\n",
      " |-- FileVersion: string (nullable = true)\n",
      " |-- Filter: string (nullable = true)\n",
      " |-- LogonId: string (nullable = true)\n",
      " |-- Product: string (nullable = true)\n",
      " |-- SourceProcessGuid: string (nullable = true)\n",
      " |-- TargetProcessGuid: string (nullable = true)\n",
      " |-- action: string (nullable = true)\n",
      " |-- any_ip_addr: string (nullable = true)\n",
      " |-- any_ip_geo: struct (nullable = true)\n",
      " |    |-- as_org: string (nullable = true)\n",
      " |    |-- asn: integer (nullable = true)\n",
      " |-- beat: struct (nullable = true)\n",
      " |    |-- hostname: string (nullable = true)\n",
      " |    |-- name: string (nullable = true)\n",
      " |    |-- version: string (nullable = true)\n",
      " |-- device_name: string (nullable = true)\n",
      " |-- dst_host_name: string (nullable = true)\n",
      " |-- dst_ip_addr: string (nullable = true)\n",
      " |-- dst_ip_public: boolean (nullable = true)\n",
      " |-- dst_ip_type: string (nullable = true)\n",
      " |-- dst_ipv6_addr: string (nullable = true)\n",
      " |-- dst_ipv6_public: boolean (nullable = true)\n",
      " |-- dst_ipv6_type: string (nullable = true)\n",
      " |-- dst_nat_ip_addr: string (nullable = true)\n",
      " |-- dst_nat_ip_public: boolean (nullable = true)\n",
      " |-- dst_nat_ip_type: string (nullable = true)\n",
      " |-- dst_nat_ipv6_addr: string (nullable = true)\n",
      " |-- dst_nat_ipv6_public: boolean (nullable = true)\n",
      " |-- dst_nat_ipv6_type: string (nullable = true)\n",
      " |-- dst_port: integer (nullable = true)\n",
      " |-- dst_port_name: string (nullable = true)\n",
      " |-- event_id: integer (nullable = true)\n",
      " |-- event_type: string (nullable = true)\n",
      " |-- file_company: string (nullable = true)\n",
      " |-- file_description: string (nullable = true)\n",
      " |-- file_name: string (nullable = true)\n",
      " |-- file_product: string (nullable = true)\n",
      " |-- file_version: string (nullable = true)\n",
      " |-- hash_imphash: string (nullable = true)\n",
      " |-- hash_md5: string (nullable = true)\n",
      " |-- hash_sha1: string (nullable = true)\n",
      " |-- hash_sha256: string (nullable = true)\n",
      " |-- host: struct (nullable = true)\n",
      " |    |-- name: string (nullable = true)\n",
      " |-- host_name: string (nullable = true)\n",
      " |-- ipv6_dst_addr: string (nullable = true)\n",
      " |-- ipv6_src_addr: string (nullable = true)\n",
      " |-- ipv6_src_nat_addr: string (nullable = true)\n",
      " |-- ipv6_src_nat_public: boolean (nullable = true)\n",
      " |-- ipv6_src_nat_type: string (nullable = true)\n",
      " |-- level: string (nullable = true)\n",
      " |-- log_ingest_timestamp: timestamp (nullable = true)\n",
      " |-- log_name: string (nullable = true)\n",
      " |-- logon_process_name: string (nullable = true)\n",
      " |-- meta_dst_ip_geo: struct (nullable = true)\n",
      " |    |-- area_code: integer (nullable = true)\n",
      " |    |-- as_org: string (nullable = true)\n",
      " |    |-- asn: integer (nullable = true)\n",
      " |    |-- city_name: string (nullable = true)\n",
      " |    |-- continent_code: string (nullable = true)\n",
      " |    |-- country_code2: string (nullable = true)\n",
      " |    |-- country_code3: string (nullable = true)\n",
      " |    |-- country_name: string (nullable = true)\n",
      " |    |-- dma_code: integer (nullable = true)\n",
      " |    |-- latitude: string (nullable = true)\n",
      " |    |-- location: struct (nullable = true)\n",
      " |    |    |-- lat: double (nullable = true)\n",
      " |    |    |-- lon: double (nullable = true)\n",
      " |    |-- longitude: string (nullable = true)\n",
      " |    |-- postal_code: string (nullable = true)\n",
      " |    |-- region_code: string (nullable = true)\n",
      " |    |-- region_name: string (nullable = true)\n",
      " |    |-- timezone: string (nullable = true)\n",
      " |-- meta_dst_ipv6_geo: struct (nullable = true)\n",
      " |    |-- area_code: integer (nullable = true)\n",
      " |    |-- as_org: string (nullable = true)\n",
      " |    |-- asn: integer (nullable = true)\n",
      " |    |-- city_name: string (nullable = true)\n",
      " |    |-- continent_code: string (nullable = true)\n",
      " |    |-- country_code2: string (nullable = true)\n",
      " |    |-- country_code3: string (nullable = true)\n",
      " |    |-- country_name: string (nullable = true)\n",
      " |    |-- dma_code: integer (nullable = true)\n",
      " |    |-- latitude: string (nullable = true)\n",
      " |    |-- location: struct (nullable = true)\n",
      " |    |    |-- lat: double (nullable = true)\n",
      " |    |    |-- lon: double (nullable = true)\n",
      " |    |-- longitude: string (nullable = true)\n",
      " |    |-- postal_code: string (nullable = true)\n",
      " |    |-- region_code: string (nullable = true)\n",
      " |    |-- region_name: string (nullable = true)\n",
      " |    |-- timezone: string (nullable = true)\n",
      " |-- meta_dst_nat_ip_geo: struct (nullable = true)\n",
      " |    |-- area_code: integer (nullable = true)\n",
      " |    |-- as_org: string (nullable = true)\n",
      " |    |-- asn: integer (nullable = true)\n",
      " |    |-- city_name: string (nullable = true)\n",
      " |    |-- continent_code: string (nullable = true)\n",
      " |    |-- country_code2: string (nullable = true)\n",
      " |    |-- country_code3: string (nullable = true)\n",
      " |    |-- country_name: string (nullable = true)\n",
      " |    |-- dma_code: integer (nullable = true)\n",
      " |    |-- latitude: string (nullable = true)\n",
      " |    |-- location: struct (nullable = true)\n",
      " |    |    |-- lat: double (nullable = true)\n",
      " |    |    |-- lon: double (nullable = true)\n",
      " |    |-- longitude: string (nullable = true)\n",
      " |    |-- postal_code: string (nullable = true)\n",
      " |    |-- region_code: string (nullable = true)\n",
      " |    |-- region_name: string (nullable = true)\n",
      " |    |-- timezone: string (nullable = true)\n",
      " |-- meta_dst_nat_ipv6_geo: struct (nullable = true)\n",
      " |    |-- area_code: integer (nullable = true)\n",
      " |    |-- as_org: string (nullable = true)\n",
      " |    |-- asn: integer (nullable = true)\n",
      " |    |-- city_name: string (nullable = true)\n",
      " |    |-- continent_code: string (nullable = true)\n",
      " |    |-- country_code2: string (nullable = true)\n",
      " |    |-- country_code3: string (nullable = true)\n",
      " |    |-- country_name: string (nullable = true)\n",
      " |    |-- dma_code: integer (nullable = true)\n",
      " |    |-- latitude: string (nullable = true)\n",
      " |    |-- location: struct (nullable = true)\n",
      " |    |    |-- lat: double (nullable = true)\n",
      " |    |    |-- lon: double (nullable = true)\n",
      " |    |-- longitude: string (nullable = true)\n",
      " |    |-- postal_code: string (nullable = true)\n",
      " |    |-- region_code: string (nullable = true)\n",
      " |    |-- region_name: string (nullable = true)\n",
      " |    |-- timezone: string (nullable = true)\n",
      " |-- meta_src_ip_geo: struct (nullable = true)\n",
      " |    |-- area_code: integer (nullable = true)\n",
      " |    |-- as_org: string (nullable = true)\n",
      " |    |-- asn: integer (nullable = true)\n",
      " |    |-- city_name: string (nullable = true)\n",
      " |    |-- continent_code: string (nullable = true)\n",
      " |    |-- country_code2: string (nullable = true)\n",
      " |    |-- country_code3: string (nullable = true)\n",
      " |    |-- country_name: string (nullable = true)\n",
      " |    |-- dma_code: integer (nullable = true)\n",
      " |    |-- latitude: string (nullable = true)\n",
      " |    |-- location: struct (nullable = true)\n",
      " |    |    |-- lat: double (nullable = true)\n",
      " |    |    |-- lon: double (nullable = true)\n",
      " |    |-- longitude: string (nullable = true)\n",
      " |    |-- postal_code: string (nullable = true)\n",
      " |    |-- region_code: string (nullable = true)\n",
      " |    |-- region_name: string (nullable = true)\n",
      " |    |-- timezone: string (nullable = true)\n",
      " |-- meta_src_ipv6_geo: struct (nullable = true)\n",
      " |    |-- area_code: integer (nullable = true)\n",
      " |    |-- as_org: string (nullable = true)\n",
      " |    |-- asn: integer (nullable = true)\n",
      " |    |-- city_name: string (nullable = true)\n",
      " |    |-- continent_code: string (nullable = true)\n",
      " |    |-- country_code2: string (nullable = true)\n",
      " |    |-- country_code3: string (nullable = true)\n",
      " |    |-- country_name: string (nullable = true)\n",
      " |    |-- dma_code: integer (nullable = true)\n",
      " |    |-- latitude: string (nullable = true)\n",
      " |    |-- location: struct (nullable = true)\n",
      " |    |    |-- lat: double (nullable = true)\n",
      " |    |    |-- lon: double (nullable = true)\n",
      " |    |-- longitude: string (nullable = true)\n",
      " |    |-- postal_code: string (nullable = true)\n",
      " |    |-- region_code: string (nullable = true)\n",
      " |    |-- region_name: string (nullable = true)\n",
      " |    |-- timezone: string (nullable = true)\n",
      " |-- meta_src_nat_ip_geo: struct (nullable = true)\n",
      " |    |-- area_code: integer (nullable = true)\n",
      " |    |-- as_org: string (nullable = true)\n",
      " |    |-- asn: integer (nullable = true)\n",
      " |    |-- city_name: string (nullable = true)\n",
      " |    |-- continent_code: string (nullable = true)\n",
      " |    |-- country_code2: string (nullable = true)\n",
      " |    |-- country_code3: string (nullable = true)\n",
      " |    |-- country_name: string (nullable = true)\n",
      " |    |-- dma_code: integer (nullable = true)\n",
      " |    |-- latitude: string (nullable = true)\n",
      " |    |-- location: struct (nullable = true)\n",
      " |    |    |-- lat: double (nullable = true)\n",
      " |    |    |-- lon: double (nullable = true)\n",
      " |    |-- longitude: string (nullable = true)\n",
      " |    |-- postal_code: string (nullable = true)\n",
      " |    |-- region_code: string (nullable = true)\n",
      " |    |-- region_name: string (nullable = true)\n",
      " |    |-- timezone: string (nullable = true)\n",
      " |-- meta_src_nat_ipv6_geo: struct (nullable = true)\n",
      " |    |-- area_code: integer (nullable = true)\n",
      " |    |-- as_org: string (nullable = true)\n",
      " |    |-- asn: integer (nullable = true)\n",
      " |    |-- city_name: string (nullable = true)\n",
      " |    |-- continent_code: string (nullable = true)\n",
      " |    |-- country_code2: string (nullable = true)\n",
      " |    |-- country_code3: string (nullable = true)\n",
      " |    |-- country_name: string (nullable = true)\n",
      " |    |-- dma_code: integer (nullable = true)\n",
      " |    |-- latitude: string (nullable = true)\n",
      " |    |-- location: struct (nullable = true)\n",
      " |    |    |-- lat: double (nullable = true)\n",
      " |    |    |-- lon: double (nullable = true)\n",
      " |    |-- longitude: string (nullable = true)\n",
      " |    |-- postal_code: string (nullable = true)\n",
      " |    |-- region_code: string (nullable = true)\n",
      " |    |-- region_name: string (nullable = true)\n",
      " |    |-- timezone: string (nullable = true)\n",
      " |-- module_loaded: string (nullable = true)\n",
      " |-- module_signature: string (nullable = true)\n",
      " |-- module_signature_status: string (nullable = true)\n",
      " |-- module_signed: boolean (nullable = true)\n",
      " |-- network_initiated: boolean (nullable = true)\n",
      " |-- network_protocol: string (nullable = true)\n",
      " |-- not_ip_dst: string (nullable = true)\n",
      " |-- not_ip_dst_nat: string (nullable = true)\n",
      " |-- not_ip_log: string (nullable = true)\n",
      " |-- not_ip_src: string (nullable = true)\n",
      " |-- not_ip_src_nat: string (nullable = true)\n",
      " |-- object_name: string (nullable = true)\n",
      " |-- opcode: string (nullable = true)\n",
      " |-- pipe_name: string (nullable = true)\n",
      " |-- process_call_trace: string (nullable = true)\n",
      " |-- process_command_line: string (nullable = true)\n",
      " |-- process_current_directory: string (nullable = true)\n",
      " |-- process_granted_access: string (nullable = true)\n",
      " |-- process_guid: string (nullable = true)\n",
      " |-- process_id: integer (nullable = true)\n",
      " |-- process_integrity_level: string (nullable = true)\n",
      " |-- process_name: string (nullable = true)\n",
      " |-- process_parent_command_line: string (nullable = true)\n",
      " |-- process_parent_guid: string (nullable = true)\n",
      " |-- process_parent_id: integer (nullable = true)\n",
      " |-- process_parent_name: string (nullable = true)\n",
      " |-- process_parent_path: string (nullable = true)\n",
      " |-- process_path: string (nullable = true)\n",
      " |-- provider_guid: string (nullable = true)\n",
      " |-- record_number: string (nullable = true)\n",
      " |-- registry_key_path: string (nullable = true)\n",
      " |-- registry_key_value: string (nullable = true)\n",
      " |-- source_name: string (nullable = true)\n",
      " |-- src_host_name: string (nullable = true)\n",
      " |-- src_ip_addr: string (nullable = true)\n",
      " |-- src_ip_public: boolean (nullable = true)\n",
      " |-- src_ip_type: string (nullable = true)\n",
      " |-- src_ipv6_addr: string (nullable = true)\n",
      " |-- src_ipv6_public: boolean (nullable = true)\n",
      " |-- src_ipv6_type: string (nullable = true)\n",
      " |-- src_nat_ip_addr: string (nullable = true)\n",
      " |-- src_nat_ip_public: boolean (nullable = true)\n",
      " |-- src_nat_ip_type: string (nullable = true)\n",
      " |-- src_port: integer (nullable = true)\n",
      " |-- src_port_name: string (nullable = true)\n",
      " |-- tags: array (nullable = true)\n",
      " |    |-- element: string (containsNull = true)\n",
      " |-- target_process_guid: string (nullable = true)\n",
      " |-- target_process_id: integer (nullable = true)\n",
      " |-- target_process_name: string (nullable = true)\n",
      " |-- target_process_path: string (nullable = true)\n",
      " |-- task: string (nullable = true)\n",
      " |-- temp_number_of_ipv4_src_addresses: long (nullable = true)\n",
      " |-- thread_id: integer (nullable = true)\n",
      " |-- thread_new_id: integer (nullable = true)\n",
      " |-- thread_start_address: string (nullable = true)\n",
      " |-- thread_start_function: string (nullable = true)\n",
      " |-- thread_start_module: string (nullable = true)\n",
      " |-- type: string (nullable = true)\n",
      " |-- user_account: string (nullable = true)\n",
      " |-- user_domain: string (nullable = true)\n",
      " |-- user_logon_guid: string (nullable = true)\n",
      " |-- user_name: string (nullable = true)\n",
      " |-- user_reporter_domain: string (nullable = true)\n",
      " |-- user_reporter_name: string (nullable = true)\n",
      " |-- user_reporter_sid: string (nullable = true)\n",
      " |-- user_reporter_type: string (nullable = true)\n",
      " |-- user_session_id: integer (nullable = true)\n",
      " |-- version: integer (nullable = true)\n",
      " |-- wmi_destination: string (nullable = true)\n",
      " |-- wmi_event_type: string (nullable = true)\n",
      " |-- wmi_name: string (nullable = true)\n",
      " |-- wmi_namespace: string (nullable = true)\n",
      " |-- wmi_operation: string (nullable = true)\n",
      " |-- wmi_query: string (nullable = true)\n",
      " |-- wmi_type: string (nullable = true)\n",
      " |-- z_logstash_pipeline: struct (nullable = true)\n",
      " |-- z_logstash_type: struct (nullable = true)\n",
      " |-- z_original_message: struct (nullable = true)\n",
      " |-- service_state: string (nullable = true)\n",
      " |-- sysmon_schema_version: string (nullable = true)\n",
      " |-- sysmon_version: string (nullable = true)\n",
      "\n"
     ]
    }
   ],
   "source": [
    "es_sysmon.printSchema()"
   ]
  },
  {
   "cell_type": "markdown",
   "metadata": {},
   "source": [
    "Filter our the data to only show certain data fields and events with the action **\"processcreate\"** which is Sysmon Event ID 1"
   ]
  },
  {
   "cell_type": "code",
   "execution_count": 43,
   "metadata": {},
   "outputs": [],
   "source": [
    "events = es_sysmon.select(\"user_name\",\"host_name\",\"process_parent_name\",\"process_name\",\"action\")\n",
    "event_id_1 = events.filter(events.action == \"processcreate\")"
   ]
  },
  {
   "cell_type": "code",
   "execution_count": 44,
   "metadata": {},
   "outputs": [
    {
     "name": "stdout",
     "output_type": "stream",
     "text": [
      "+-------------+---------------------------+--------------------+----------------+-------------+\n",
      "|user_name    |host_name                  |process_parent_name |process_name    |action       |\n",
      "+-------------+---------------------------+--------------------+----------------+-------------+\n",
      "|local service|WDFN002.thehuntingelk.local|services.exe        |taskhost.exe    |processcreate|\n",
      "|system       |dc-helk.thehuntingelk.local|svchost.exe         |WmiPrvSE.exe    |processcreate|\n",
      "|system       |dc-helk.thehuntingelk.local|CollectGuestLogs.exe|cmd.exe         |processcreate|\n",
      "|system       |WDHR004.thehuntingelk.local|services.exe        |taskhost.exe    |processcreate|\n",
      "|system       |WDFN003.thehuntingelk.local|services.exe        |taskhost.exe    |processcreate|\n",
      "|troy.ellis   |WDHR005.thehuntingelk.local|powershell.exe      |regsvr32.exe    |processcreate|\n",
      "|troy.ellis   |WDHR005.thehuntingelk.local|cmd.exe             |cmd.exe         |processcreate|\n",
      "|local service|WDRD004.thehuntingelk.local|services.exe        |taskhost.exe    |processcreate|\n",
      "|system       |dc-helk.thehuntingelk.local|svchost.exe         |wermgr.exe      |processcreate|\n",
      "|helkadmin    |dc-helk.thehuntingelk.local|svchost.exe         |InstallAgent.exe|processcreate|\n",
      "+-------------+---------------------------+--------------------+----------------+-------------+\n",
      "only showing top 10 rows\n",
      "\n"
     ]
    }
   ],
   "source": [
    "event_id_1.show(10,truncate=False)"
   ]
  },
  {
   "cell_type": "code",
   "execution_count": null,
   "metadata": {},
   "outputs": [],
   "source": []
  }
 ],
 "metadata": {
  "kernelspec": {
   "display_name": "PySpark_Python3",
   "language": "python",
   "name": "pyspark3"
  },
  "language_info": {
   "codemirror_mode": {
    "name": "ipython",
    "version": 3
   },
   "file_extension": ".py",
   "mimetype": "text/x-python",
   "name": "python",
   "nbconvert_exporter": "python",
   "pygments_lexer": "ipython3",
   "version": "3.5.2"
  }
 },
 "nbformat": 4,
 "nbformat_minor": 2
}
