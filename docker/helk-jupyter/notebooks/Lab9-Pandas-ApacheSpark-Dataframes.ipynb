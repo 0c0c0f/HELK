{
 "cells": [
  {
   "cell_type": "markdown",
   "metadata": {},
   "source": [
    "# Lab 9: Pandas, Apache Spark and Dataframes"
   ]
  },
  {
   "cell_type": "markdown",
   "metadata": {},
   "source": [
    "## Goals:\n",
    "* Basic Python Exercise with dataframes\n",
    "* Set variables and learn basic operations\n",
    "* Understand Dataframes with Pandas & Apache Spark\n",
    "* Get familiarized with JupyterLabs Interface\n",
    "* Ensure JupyterLab Server is communicating with our Spark Cluster\n",
    "* Ensure JupyterLab Server, Spark Cluster & Elasticsearch are communicating\n",
    "* Learn basic SparkSQL statements (JOINs)"
   ]
  },
  {
   "cell_type": "markdown",
   "metadata": {},
   "source": [
    "## Basic Python Exercise"
   ]
  },
  {
   "cell_type": "markdown",
   "metadata": {},
   "source": [
    "Let's get started with some language basics for Python.\n",
    "* Set variables and learn basic operations"
   ]
  },
  {
   "cell_type": "markdown",
   "metadata": {},
   "source": [
    "### Setting variables"
   ]
  },
  {
   "cell_type": "markdown",
   "metadata": {},
   "source": [
    "A variable can have a short name (like x and y) or a more descriptive name (age, dog, owner).\n",
    "Rules for Python variables:\n",
    "* A variable name must start with a letter or the underscore character\n",
    "* A variable name cannot start with a number\n",
    "* A variable name can only contain alpha-numeric characters and underscores (A-z, 0-9, and _ )\n",
    "* Variable names are case-sensitive (age, Age and AGE are three different variables)\n",
    "\n",
    "Reference:https://www.w3schools.com/python/python_variables.asp"
   ]
  },
  {
   "cell_type": "code",
   "execution_count": 1,
   "metadata": {},
   "outputs": [],
   "source": [
    "dog_name = 'Pedro'\n",
    "age = 3\n",
    "is_vaccinated = True\n",
    "birth_year = 2015"
   ]
  },
  {
   "cell_type": "code",
   "execution_count": 2,
   "metadata": {},
   "outputs": [
    {
     "data": {
      "text/plain": [
       "True"
      ]
     },
     "execution_count": 2,
     "metadata": {},
     "output_type": "execute_result"
    }
   ],
   "source": [
    "is_vaccinated"
   ]
  },
  {
   "cell_type": "code",
   "execution_count": 3,
   "metadata": {},
   "outputs": [
    {
     "data": {
      "text/plain": [
       "'Pedro'"
      ]
     },
     "execution_count": 3,
     "metadata": {},
     "output_type": "execute_result"
    }
   ],
   "source": [
    "dog_name"
   ]
  },
  {
   "cell_type": "markdown",
   "metadata": {},
   "source": [
    "## Dataframes & Pandas"
   ]
  },
  {
   "cell_type": "markdown",
   "metadata": {},
   "source": [
    "### Import Pandas Library"
   ]
  },
  {
   "cell_type": "code",
   "execution_count": 4,
   "metadata": {},
   "outputs": [],
   "source": [
    "import pandas as pd"
   ]
  },
  {
   "cell_type": "markdown",
   "metadata": {},
   "source": [
    "### Create Dataframe"
   ]
  },
  {
   "cell_type": "markdown",
   "metadata": {},
   "source": [
    "Lets create a dataframe from an list of elements. We will make sure we define the column names as well"
   ]
  },
  {
   "cell_type": "code",
   "execution_count": 5,
   "metadata": {},
   "outputs": [],
   "source": [
    "dog_data=[['Pedro','Doberman',3],['Clementine','Golden Retriever',8],['Norah','Great Dane',6]\\\n",
    "         ,['Mabel','Austrailian Shepherd',1],['Bear','Maltese',4],['Bill','Great Dane',10]]\n",
    "dog_df=pd.DataFrame(dog_data,columns=['name','breed','age'])"
   ]
  },
  {
   "cell_type": "markdown",
   "metadata": {},
   "source": [
    "### Preview the Dataframe"
   ]
  },
  {
   "cell_type": "markdown",
   "metadata": {},
   "source": [
    "View the first 5 rows of your dataframe"
   ]
  },
  {
   "cell_type": "code",
   "execution_count": 6,
   "metadata": {},
   "outputs": [
    {
     "data": {
      "text/html": [
       "<div>\n",
       "<style scoped>\n",
       "    .dataframe tbody tr th:only-of-type {\n",
       "        vertical-align: middle;\n",
       "    }\n",
       "\n",
       "    .dataframe tbody tr th {\n",
       "        vertical-align: top;\n",
       "    }\n",
       "\n",
       "    .dataframe thead th {\n",
       "        text-align: right;\n",
       "    }\n",
       "</style>\n",
       "<table border=\"1\" class=\"dataframe\">\n",
       "  <thead>\n",
       "    <tr style=\"text-align: right;\">\n",
       "      <th></th>\n",
       "      <th>name</th>\n",
       "      <th>breed</th>\n",
       "      <th>age</th>\n",
       "    </tr>\n",
       "  </thead>\n",
       "  <tbody>\n",
       "    <tr>\n",
       "      <th>0</th>\n",
       "      <td>Pedro</td>\n",
       "      <td>Doberman</td>\n",
       "      <td>3</td>\n",
       "    </tr>\n",
       "    <tr>\n",
       "      <th>1</th>\n",
       "      <td>Clementine</td>\n",
       "      <td>Golden Retriever</td>\n",
       "      <td>8</td>\n",
       "    </tr>\n",
       "    <tr>\n",
       "      <th>2</th>\n",
       "      <td>Norah</td>\n",
       "      <td>Great Dane</td>\n",
       "      <td>6</td>\n",
       "    </tr>\n",
       "    <tr>\n",
       "      <th>3</th>\n",
       "      <td>Mabel</td>\n",
       "      <td>Austrailian Shepherd</td>\n",
       "      <td>1</td>\n",
       "    </tr>\n",
       "    <tr>\n",
       "      <th>4</th>\n",
       "      <td>Bear</td>\n",
       "      <td>Maltese</td>\n",
       "      <td>4</td>\n",
       "    </tr>\n",
       "  </tbody>\n",
       "</table>\n",
       "</div>"
      ],
      "text/plain": [
       "         name                 breed  age\n",
       "0       Pedro              Doberman    3\n",
       "1  Clementine      Golden Retriever    8\n",
       "2       Norah            Great Dane    6\n",
       "3       Mabel  Austrailian Shepherd    1\n",
       "4        Bear               Maltese    4"
      ]
     },
     "execution_count": 6,
     "metadata": {},
     "output_type": "execute_result"
    }
   ],
   "source": [
    "dog_df.head()"
   ]
  },
  {
   "cell_type": "markdown",
   "metadata": {},
   "source": [
    "view the last 3 rows of your dataframe"
   ]
  },
  {
   "cell_type": "code",
   "execution_count": 7,
   "metadata": {},
   "outputs": [
    {
     "data": {
      "text/html": [
       "<div>\n",
       "<style scoped>\n",
       "    .dataframe tbody tr th:only-of-type {\n",
       "        vertical-align: middle;\n",
       "    }\n",
       "\n",
       "    .dataframe tbody tr th {\n",
       "        vertical-align: top;\n",
       "    }\n",
       "\n",
       "    .dataframe thead th {\n",
       "        text-align: right;\n",
       "    }\n",
       "</style>\n",
       "<table border=\"1\" class=\"dataframe\">\n",
       "  <thead>\n",
       "    <tr style=\"text-align: right;\">\n",
       "      <th></th>\n",
       "      <th>name</th>\n",
       "      <th>breed</th>\n",
       "      <th>age</th>\n",
       "    </tr>\n",
       "  </thead>\n",
       "  <tbody>\n",
       "    <tr>\n",
       "      <th>3</th>\n",
       "      <td>Mabel</td>\n",
       "      <td>Austrailian Shepherd</td>\n",
       "      <td>1</td>\n",
       "    </tr>\n",
       "    <tr>\n",
       "      <th>4</th>\n",
       "      <td>Bear</td>\n",
       "      <td>Maltese</td>\n",
       "      <td>4</td>\n",
       "    </tr>\n",
       "    <tr>\n",
       "      <th>5</th>\n",
       "      <td>Bill</td>\n",
       "      <td>Great Dane</td>\n",
       "      <td>10</td>\n",
       "    </tr>\n",
       "  </tbody>\n",
       "</table>\n",
       "</div>"
      ],
      "text/plain": [
       "    name                 breed  age\n",
       "3  Mabel  Austrailian Shepherd    1\n",
       "4   Bear               Maltese    4\n",
       "5   Bill            Great Dane   10"
      ]
     },
     "execution_count": 7,
     "metadata": {},
     "output_type": "execute_result"
    }
   ],
   "source": [
    "dog_df.tail(3)"
   ]
  },
  {
   "cell_type": "markdown",
   "metadata": {},
   "source": [
    "Get the dimension of your dataframe"
   ]
  },
  {
   "cell_type": "code",
   "execution_count": 8,
   "metadata": {},
   "outputs": [
    {
     "data": {
      "text/plain": [
       "(6, 3)"
      ]
     },
     "execution_count": 8,
     "metadata": {},
     "output_type": "execute_result"
    }
   ],
   "source": [
    "dog_df.shape"
   ]
  },
  {
   "cell_type": "markdown",
   "metadata": {},
   "source": [
    "Compute length of each string in the Series/Index"
   ]
  },
  {
   "cell_type": "code",
   "execution_count": 9,
   "metadata": {},
   "outputs": [
    {
     "data": {
      "text/plain": [
       "6"
      ]
     },
     "execution_count": 9,
     "metadata": {},
     "output_type": "execute_result"
    }
   ],
   "source": [
    "len(dog_df)"
   ]
  },
  {
   "cell_type": "markdown",
   "metadata": {},
   "source": [
    "Show column names"
   ]
  },
  {
   "cell_type": "code",
   "execution_count": 10,
   "metadata": {},
   "outputs": [
    {
     "data": {
      "text/plain": [
       "Index(['name', 'breed', 'age'], dtype='object')"
      ]
     },
     "execution_count": 10,
     "metadata": {},
     "output_type": "execute_result"
    }
   ],
   "source": [
    "dog_df.columns"
   ]
  },
  {
   "cell_type": "markdown",
   "metadata": {},
   "source": [
    "Return a series with the data type of each column"
   ]
  },
  {
   "cell_type": "code",
   "execution_count": 11,
   "metadata": {},
   "outputs": [
    {
     "data": {
      "text/plain": [
       "name     object\n",
       "breed    object\n",
       "age       int64\n",
       "dtype: object"
      ]
     },
     "execution_count": 11,
     "metadata": {},
     "output_type": "execute_result"
    }
   ],
   "source": [
    "dog_df.dtypes"
   ]
  },
  {
   "cell_type": "markdown",
   "metadata": {},
   "source": [
    "Show row values"
   ]
  },
  {
   "cell_type": "code",
   "execution_count": 12,
   "metadata": {},
   "outputs": [
    {
     "data": {
      "text/plain": [
       "array([['Pedro', 'Doberman', 3],\n",
       "       ['Clementine', 'Golden Retriever', 8],\n",
       "       ['Norah', 'Great Dane', 6],\n",
       "       ['Mabel', 'Austrailian Shepherd', 1],\n",
       "       ['Bear', 'Maltese', 4],\n",
       "       ['Bill', 'Great Dane', 10]], dtype=object)"
      ]
     },
     "execution_count": 12,
     "metadata": {},
     "output_type": "execute_result"
    }
   ],
   "source": [
    "dog_df.values"
   ]
  },
  {
   "cell_type": "markdown",
   "metadata": {},
   "source": [
    "**Describe**\n",
    "Generates descriptive statistics that summarize the central tendency, dispersion and shape of a dataset’s distribution, excluding NaN values."
   ]
  },
  {
   "cell_type": "code",
   "execution_count": 13,
   "metadata": {},
   "outputs": [
    {
     "data": {
      "text/html": [
       "<div>\n",
       "<style scoped>\n",
       "    .dataframe tbody tr th:only-of-type {\n",
       "        vertical-align: middle;\n",
       "    }\n",
       "\n",
       "    .dataframe tbody tr th {\n",
       "        vertical-align: top;\n",
       "    }\n",
       "\n",
       "    .dataframe thead th {\n",
       "        text-align: right;\n",
       "    }\n",
       "</style>\n",
       "<table border=\"1\" class=\"dataframe\">\n",
       "  <thead>\n",
       "    <tr style=\"text-align: right;\">\n",
       "      <th></th>\n",
       "      <th>age</th>\n",
       "    </tr>\n",
       "  </thead>\n",
       "  <tbody>\n",
       "    <tr>\n",
       "      <th>count</th>\n",
       "      <td>6.000000</td>\n",
       "    </tr>\n",
       "    <tr>\n",
       "      <th>mean</th>\n",
       "      <td>5.333333</td>\n",
       "    </tr>\n",
       "    <tr>\n",
       "      <th>std</th>\n",
       "      <td>3.326660</td>\n",
       "    </tr>\n",
       "    <tr>\n",
       "      <th>min</th>\n",
       "      <td>1.000000</td>\n",
       "    </tr>\n",
       "    <tr>\n",
       "      <th>25%</th>\n",
       "      <td>3.250000</td>\n",
       "    </tr>\n",
       "    <tr>\n",
       "      <th>50%</th>\n",
       "      <td>5.000000</td>\n",
       "    </tr>\n",
       "    <tr>\n",
       "      <th>75%</th>\n",
       "      <td>7.500000</td>\n",
       "    </tr>\n",
       "    <tr>\n",
       "      <th>max</th>\n",
       "      <td>10.000000</td>\n",
       "    </tr>\n",
       "  </tbody>\n",
       "</table>\n",
       "</div>"
      ],
      "text/plain": [
       "             age\n",
       "count   6.000000\n",
       "mean    5.333333\n",
       "std     3.326660\n",
       "min     1.000000\n",
       "25%     3.250000\n",
       "50%     5.000000\n",
       "75%     7.500000\n",
       "max    10.000000"
      ]
     },
     "execution_count": 13,
     "metadata": {},
     "output_type": "execute_result"
    }
   ],
   "source": [
    "dog_df.describe()"
   ]
  },
  {
   "cell_type": "markdown",
   "metadata": {},
   "source": [
    "Count the number of values from a specific column"
   ]
  },
  {
   "cell_type": "code",
   "execution_count": 14,
   "metadata": {},
   "outputs": [
    {
     "data": {
      "text/plain": [
       "Great Dane              2\n",
       "Golden Retriever        1\n",
       "Doberman                1\n",
       "Austrailian Shepherd    1\n",
       "Maltese                 1\n",
       "Name: breed, dtype: int64"
      ]
     },
     "execution_count": 14,
     "metadata": {},
     "output_type": "execute_result"
    }
   ],
   "source": [
    "dog_df['breed'].value_counts()"
   ]
  },
  {
   "cell_type": "markdown",
   "metadata": {},
   "source": [
    "### Sorting"
   ]
  },
  {
   "cell_type": "markdown",
   "metadata": {},
   "source": [
    "### Selecting/Quering"
   ]
  },
  {
   "cell_type": "code",
   "execution_count": 15,
   "metadata": {},
   "outputs": [
    {
     "data": {
      "text/html": [
       "<div>\n",
       "<style scoped>\n",
       "    .dataframe tbody tr th:only-of-type {\n",
       "        vertical-align: middle;\n",
       "    }\n",
       "\n",
       "    .dataframe tbody tr th {\n",
       "        vertical-align: top;\n",
       "    }\n",
       "\n",
       "    .dataframe thead th {\n",
       "        text-align: right;\n",
       "    }\n",
       "</style>\n",
       "<table border=\"1\" class=\"dataframe\">\n",
       "  <thead>\n",
       "    <tr style=\"text-align: right;\">\n",
       "      <th></th>\n",
       "      <th>name</th>\n",
       "      <th>age</th>\n",
       "    </tr>\n",
       "  </thead>\n",
       "  <tbody>\n",
       "    <tr>\n",
       "      <th>0</th>\n",
       "      <td>Pedro</td>\n",
       "      <td>3</td>\n",
       "    </tr>\n",
       "    <tr>\n",
       "      <th>1</th>\n",
       "      <td>Clementine</td>\n",
       "      <td>8</td>\n",
       "    </tr>\n",
       "    <tr>\n",
       "      <th>2</th>\n",
       "      <td>Norah</td>\n",
       "      <td>6</td>\n",
       "    </tr>\n",
       "    <tr>\n",
       "      <th>3</th>\n",
       "      <td>Mabel</td>\n",
       "      <td>1</td>\n",
       "    </tr>\n",
       "    <tr>\n",
       "      <th>4</th>\n",
       "      <td>Bear</td>\n",
       "      <td>4</td>\n",
       "    </tr>\n",
       "    <tr>\n",
       "      <th>5</th>\n",
       "      <td>Bill</td>\n",
       "      <td>10</td>\n",
       "    </tr>\n",
       "  </tbody>\n",
       "</table>\n",
       "</div>"
      ],
      "text/plain": [
       "         name  age\n",
       "0       Pedro    3\n",
       "1  Clementine    8\n",
       "2       Norah    6\n",
       "3       Mabel    1\n",
       "4        Bear    4\n",
       "5        Bill   10"
      ]
     },
     "execution_count": 15,
     "metadata": {},
     "output_type": "execute_result"
    }
   ],
   "source": [
    "dog_df[['name','age']]"
   ]
  },
  {
   "cell_type": "code",
   "execution_count": 16,
   "metadata": {},
   "outputs": [
    {
     "data": {
      "text/html": [
       "<div>\n",
       "<style scoped>\n",
       "    .dataframe tbody tr th:only-of-type {\n",
       "        vertical-align: middle;\n",
       "    }\n",
       "\n",
       "    .dataframe tbody tr th {\n",
       "        vertical-align: top;\n",
       "    }\n",
       "\n",
       "    .dataframe thead th {\n",
       "        text-align: right;\n",
       "    }\n",
       "</style>\n",
       "<table border=\"1\" class=\"dataframe\">\n",
       "  <thead>\n",
       "    <tr style=\"text-align: right;\">\n",
       "      <th></th>\n",
       "      <th>name</th>\n",
       "      <th>breed</th>\n",
       "      <th>age</th>\n",
       "    </tr>\n",
       "  </thead>\n",
       "  <tbody>\n",
       "    <tr>\n",
       "      <th>2</th>\n",
       "      <td>Norah</td>\n",
       "      <td>Great Dane</td>\n",
       "      <td>6</td>\n",
       "    </tr>\n",
       "    <tr>\n",
       "      <th>3</th>\n",
       "      <td>Mabel</td>\n",
       "      <td>Austrailian Shepherd</td>\n",
       "      <td>1</td>\n",
       "    </tr>\n",
       "  </tbody>\n",
       "</table>\n",
       "</div>"
      ],
      "text/plain": [
       "    name                 breed  age\n",
       "2  Norah            Great Dane    6\n",
       "3  Mabel  Austrailian Shepherd    1"
      ]
     },
     "execution_count": 16,
     "metadata": {},
     "output_type": "execute_result"
    }
   ],
   "source": [
    "dog_df.iloc[2:4]"
   ]
  },
  {
   "cell_type": "code",
   "execution_count": 17,
   "metadata": {},
   "outputs": [
    {
     "data": {
      "text/html": [
       "<div>\n",
       "<style scoped>\n",
       "    .dataframe tbody tr th:only-of-type {\n",
       "        vertical-align: middle;\n",
       "    }\n",
       "\n",
       "    .dataframe tbody tr th {\n",
       "        vertical-align: top;\n",
       "    }\n",
       "\n",
       "    .dataframe thead th {\n",
       "        text-align: right;\n",
       "    }\n",
       "</style>\n",
       "<table border=\"1\" class=\"dataframe\">\n",
       "  <thead>\n",
       "    <tr style=\"text-align: right;\">\n",
       "      <th></th>\n",
       "      <th>name</th>\n",
       "      <th>breed</th>\n",
       "    </tr>\n",
       "  </thead>\n",
       "  <tbody>\n",
       "    <tr>\n",
       "      <th>1</th>\n",
       "      <td>Clementine</td>\n",
       "      <td>Golden Retriever</td>\n",
       "    </tr>\n",
       "    <tr>\n",
       "      <th>2</th>\n",
       "      <td>Norah</td>\n",
       "      <td>Great Dane</td>\n",
       "    </tr>\n",
       "    <tr>\n",
       "      <th>3</th>\n",
       "      <td>Mabel</td>\n",
       "      <td>Austrailian Shepherd</td>\n",
       "    </tr>\n",
       "  </tbody>\n",
       "</table>\n",
       "</div>"
      ],
      "text/plain": [
       "         name                 breed\n",
       "1  Clementine      Golden Retriever\n",
       "2       Norah            Great Dane\n",
       "3       Mabel  Austrailian Shepherd"
      ]
     },
     "execution_count": 17,
     "metadata": {},
     "output_type": "execute_result"
    }
   ],
   "source": [
    "dog_df.iloc[1:4, 0:2]"
   ]
  },
  {
   "cell_type": "code",
   "execution_count": 18,
   "metadata": {},
   "outputs": [
    {
     "data": {
      "text/html": [
       "<div>\n",
       "<style scoped>\n",
       "    .dataframe tbody tr th:only-of-type {\n",
       "        vertical-align: middle;\n",
       "    }\n",
       "\n",
       "    .dataframe tbody tr th {\n",
       "        vertical-align: top;\n",
       "    }\n",
       "\n",
       "    .dataframe thead th {\n",
       "        text-align: right;\n",
       "    }\n",
       "</style>\n",
       "<table border=\"1\" class=\"dataframe\">\n",
       "  <thead>\n",
       "    <tr style=\"text-align: right;\">\n",
       "      <th></th>\n",
       "      <th>name</th>\n",
       "      <th>breed</th>\n",
       "      <th>age</th>\n",
       "    </tr>\n",
       "  </thead>\n",
       "  <tbody>\n",
       "    <tr>\n",
       "      <th>2</th>\n",
       "      <td>Norah</td>\n",
       "      <td>Great Dane</td>\n",
       "      <td>6</td>\n",
       "    </tr>\n",
       "    <tr>\n",
       "      <th>4</th>\n",
       "      <td>Bear</td>\n",
       "      <td>Maltese</td>\n",
       "      <td>4</td>\n",
       "    </tr>\n",
       "    <tr>\n",
       "      <th>5</th>\n",
       "      <td>Bill</td>\n",
       "      <td>Great Dane</td>\n",
       "      <td>10</td>\n",
       "    </tr>\n",
       "  </tbody>\n",
       "</table>\n",
       "</div>"
      ],
      "text/plain": [
       "    name       breed  age\n",
       "2  Norah  Great Dane    6\n",
       "4   Bear     Maltese    4\n",
       "5   Bill  Great Dane   10"
      ]
     },
     "execution_count": 18,
     "metadata": {},
     "output_type": "execute_result"
    }
   ],
   "source": [
    "dog_df[dog_df['breed'].isin(['Great Dane', 'Maltese'])]"
   ]
  },
  {
   "cell_type": "code",
   "execution_count": 19,
   "metadata": {},
   "outputs": [
    {
     "data": {
      "text/html": [
       "<div>\n",
       "<style scoped>\n",
       "    .dataframe tbody tr th:only-of-type {\n",
       "        vertical-align: middle;\n",
       "    }\n",
       "\n",
       "    .dataframe tbody tr th {\n",
       "        vertical-align: top;\n",
       "    }\n",
       "\n",
       "    .dataframe thead th {\n",
       "        text-align: right;\n",
       "    }\n",
       "</style>\n",
       "<table border=\"1\" class=\"dataframe\">\n",
       "  <thead>\n",
       "    <tr style=\"text-align: right;\">\n",
       "      <th></th>\n",
       "      <th>name</th>\n",
       "      <th>breed</th>\n",
       "      <th>age</th>\n",
       "    </tr>\n",
       "  </thead>\n",
       "  <tbody>\n",
       "    <tr>\n",
       "      <th>2</th>\n",
       "      <td>Norah</td>\n",
       "      <td>Great Dane</td>\n",
       "      <td>6</td>\n",
       "    </tr>\n",
       "  </tbody>\n",
       "</table>\n",
       "</div>"
      ],
      "text/plain": [
       "    name       breed  age\n",
       "2  Norah  Great Dane    6"
      ]
     },
     "execution_count": 19,
     "metadata": {},
     "output_type": "execute_result"
    }
   ],
   "source": [
    "dog_df[dog_df['name']=='Norah']"
   ]
  },
  {
   "cell_type": "code",
   "execution_count": 20,
   "metadata": {},
   "outputs": [
    {
     "data": {
      "text/html": [
       "<div>\n",
       "<style scoped>\n",
       "    .dataframe tbody tr th:only-of-type {\n",
       "        vertical-align: middle;\n",
       "    }\n",
       "\n",
       "    .dataframe tbody tr th {\n",
       "        vertical-align: top;\n",
       "    }\n",
       "\n",
       "    .dataframe thead th {\n",
       "        text-align: right;\n",
       "    }\n",
       "</style>\n",
       "<table border=\"1\" class=\"dataframe\">\n",
       "  <thead>\n",
       "    <tr style=\"text-align: right;\">\n",
       "      <th></th>\n",
       "      <th>name</th>\n",
       "      <th>breed</th>\n",
       "      <th>age</th>\n",
       "    </tr>\n",
       "  </thead>\n",
       "  <tbody>\n",
       "    <tr>\n",
       "      <th>5</th>\n",
       "      <td>Bill</td>\n",
       "      <td>Great Dane</td>\n",
       "      <td>10</td>\n",
       "    </tr>\n",
       "  </tbody>\n",
       "</table>\n",
       "</div>"
      ],
      "text/plain": [
       "   name       breed  age\n",
       "5  Bill  Great Dane   10"
      ]
     },
     "execution_count": 20,
     "metadata": {},
     "output_type": "execute_result"
    }
   ],
   "source": [
    "dog_df[(dog_df['name']=='Bill') & (dog_df['breed']=='Great Dane')]"
   ]
  },
  {
   "cell_type": "code",
   "execution_count": 21,
   "metadata": {},
   "outputs": [
    {
     "data": {
      "text/html": [
       "<div>\n",
       "<style scoped>\n",
       "    .dataframe tbody tr th:only-of-type {\n",
       "        vertical-align: middle;\n",
       "    }\n",
       "\n",
       "    .dataframe tbody tr th {\n",
       "        vertical-align: top;\n",
       "    }\n",
       "\n",
       "    .dataframe thead th {\n",
       "        text-align: right;\n",
       "    }\n",
       "</style>\n",
       "<table border=\"1\" class=\"dataframe\">\n",
       "  <thead>\n",
       "    <tr style=\"text-align: right;\">\n",
       "      <th></th>\n",
       "      <th>name</th>\n",
       "      <th>breed</th>\n",
       "      <th>age</th>\n",
       "    </tr>\n",
       "  </thead>\n",
       "  <tbody>\n",
       "    <tr>\n",
       "      <th>0</th>\n",
       "      <td>Pedro</td>\n",
       "      <td>Doberman</td>\n",
       "      <td>3</td>\n",
       "    </tr>\n",
       "    <tr>\n",
       "      <th>3</th>\n",
       "      <td>Mabel</td>\n",
       "      <td>Austrailian Shepherd</td>\n",
       "      <td>1</td>\n",
       "    </tr>\n",
       "    <tr>\n",
       "      <th>4</th>\n",
       "      <td>Bear</td>\n",
       "      <td>Maltese</td>\n",
       "      <td>4</td>\n",
       "    </tr>\n",
       "  </tbody>\n",
       "</table>\n",
       "</div>"
      ],
      "text/plain": [
       "    name                 breed  age\n",
       "0  Pedro              Doberman    3\n",
       "3  Mabel  Austrailian Shepherd    1\n",
       "4   Bear               Maltese    4"
      ]
     },
     "execution_count": 21,
     "metadata": {},
     "output_type": "execute_result"
    }
   ],
   "source": [
    "dog_df[dog_df['age']<5]"
   ]
  },
  {
   "cell_type": "code",
   "execution_count": 22,
   "metadata": {},
   "outputs": [
    {
     "data": {
      "text/html": [
       "<div>\n",
       "<style scoped>\n",
       "    .dataframe tbody tr th:only-of-type {\n",
       "        vertical-align: middle;\n",
       "    }\n",
       "\n",
       "    .dataframe tbody tr th {\n",
       "        vertical-align: top;\n",
       "    }\n",
       "\n",
       "    .dataframe thead th {\n",
       "        text-align: right;\n",
       "    }\n",
       "</style>\n",
       "<table border=\"1\" class=\"dataframe\">\n",
       "  <thead>\n",
       "    <tr style=\"text-align: right;\">\n",
       "      <th></th>\n",
       "      <th>name</th>\n",
       "      <th>breed</th>\n",
       "      <th>age</th>\n",
       "    </tr>\n",
       "  </thead>\n",
       "  <tbody>\n",
       "    <tr>\n",
       "      <th>1</th>\n",
       "      <td>Clementine</td>\n",
       "      <td>Golden Retriever</td>\n",
       "      <td>8</td>\n",
       "    </tr>\n",
       "    <tr>\n",
       "      <th>2</th>\n",
       "      <td>Norah</td>\n",
       "      <td>Great Dane</td>\n",
       "      <td>6</td>\n",
       "    </tr>\n",
       "    <tr>\n",
       "      <th>5</th>\n",
       "      <td>Bill</td>\n",
       "      <td>Great Dane</td>\n",
       "      <td>10</td>\n",
       "    </tr>\n",
       "  </tbody>\n",
       "</table>\n",
       "</div>"
      ],
      "text/plain": [
       "         name             breed  age\n",
       "1  Clementine  Golden Retriever    8\n",
       "2       Norah        Great Dane    6\n",
       "5        Bill        Great Dane   10"
      ]
     },
     "execution_count": 22,
     "metadata": {},
     "output_type": "execute_result"
    }
   ],
   "source": [
    "dog_df[dog_df['breed'].str.contains('G')]"
   ]
  },
  {
   "cell_type": "markdown",
   "metadata": {},
   "source": [
    "### Merging Dataframes"
   ]
  },
  {
   "cell_type": "markdown",
   "metadata": {},
   "source": [
    "“Merging” two datasets is the process of bringing two datasets together into one, and aligning the rows from each based on common attributes or columns."
   ]
  },
  {
   "cell_type": "markdown",
   "metadata": {},
   "source": [
    "First, lets create an additional dataframe. This dataframe will contain the name of the pet owners mapped to their pets names"
   ]
  },
  {
   "cell_type": "code",
   "execution_count": 23,
   "metadata": {},
   "outputs": [],
   "source": [
    "owner_data=[['Bilbo','Pedro'],['Gandalf','Bear'],['Sam','Bill']]\n",
    "owner_df=pd.DataFrame(owner_data,columns=['owner_name','dog_name'])"
   ]
  },
  {
   "cell_type": "code",
   "execution_count": 24,
   "metadata": {},
   "outputs": [
    {
     "data": {
      "text/html": [
       "<div>\n",
       "<style scoped>\n",
       "    .dataframe tbody tr th:only-of-type {\n",
       "        vertical-align: middle;\n",
       "    }\n",
       "\n",
       "    .dataframe tbody tr th {\n",
       "        vertical-align: top;\n",
       "    }\n",
       "\n",
       "    .dataframe thead th {\n",
       "        text-align: right;\n",
       "    }\n",
       "</style>\n",
       "<table border=\"1\" class=\"dataframe\">\n",
       "  <thead>\n",
       "    <tr style=\"text-align: right;\">\n",
       "      <th></th>\n",
       "      <th>owner_name</th>\n",
       "      <th>dog_name</th>\n",
       "    </tr>\n",
       "  </thead>\n",
       "  <tbody>\n",
       "    <tr>\n",
       "      <th>0</th>\n",
       "      <td>Bilbo</td>\n",
       "      <td>Pedro</td>\n",
       "    </tr>\n",
       "    <tr>\n",
       "      <th>1</th>\n",
       "      <td>Gandalf</td>\n",
       "      <td>Bear</td>\n",
       "    </tr>\n",
       "    <tr>\n",
       "      <th>2</th>\n",
       "      <td>Sam</td>\n",
       "      <td>Bill</td>\n",
       "    </tr>\n",
       "  </tbody>\n",
       "</table>\n",
       "</div>"
      ],
      "text/plain": [
       "  owner_name dog_name\n",
       "0      Bilbo    Pedro\n",
       "1    Gandalf     Bear\n",
       "2        Sam     Bill"
      ]
     },
     "execution_count": 24,
     "metadata": {},
     "output_type": "execute_result"
    }
   ],
   "source": [
    "owner_df"
   ]
  },
  {
   "cell_type": "code",
   "execution_count": 25,
   "metadata": {},
   "outputs": [
    {
     "data": {
      "text/html": [
       "<div>\n",
       "<style scoped>\n",
       "    .dataframe tbody tr th:only-of-type {\n",
       "        vertical-align: middle;\n",
       "    }\n",
       "\n",
       "    .dataframe tbody tr th {\n",
       "        vertical-align: top;\n",
       "    }\n",
       "\n",
       "    .dataframe thead th {\n",
       "        text-align: right;\n",
       "    }\n",
       "</style>\n",
       "<table border=\"1\" class=\"dataframe\">\n",
       "  <thead>\n",
       "    <tr style=\"text-align: right;\">\n",
       "      <th></th>\n",
       "      <th>name</th>\n",
       "      <th>breed</th>\n",
       "      <th>age</th>\n",
       "    </tr>\n",
       "  </thead>\n",
       "  <tbody>\n",
       "    <tr>\n",
       "      <th>0</th>\n",
       "      <td>Pedro</td>\n",
       "      <td>Doberman</td>\n",
       "      <td>3</td>\n",
       "    </tr>\n",
       "    <tr>\n",
       "      <th>1</th>\n",
       "      <td>Clementine</td>\n",
       "      <td>Golden Retriever</td>\n",
       "      <td>8</td>\n",
       "    </tr>\n",
       "    <tr>\n",
       "      <th>2</th>\n",
       "      <td>Norah</td>\n",
       "      <td>Great Dane</td>\n",
       "      <td>6</td>\n",
       "    </tr>\n",
       "    <tr>\n",
       "      <th>3</th>\n",
       "      <td>Mabel</td>\n",
       "      <td>Austrailian Shepherd</td>\n",
       "      <td>1</td>\n",
       "    </tr>\n",
       "    <tr>\n",
       "      <th>4</th>\n",
       "      <td>Bear</td>\n",
       "      <td>Maltese</td>\n",
       "      <td>4</td>\n",
       "    </tr>\n",
       "    <tr>\n",
       "      <th>5</th>\n",
       "      <td>Bill</td>\n",
       "      <td>Great Dane</td>\n",
       "      <td>10</td>\n",
       "    </tr>\n",
       "  </tbody>\n",
       "</table>\n",
       "</div>"
      ],
      "text/plain": [
       "         name                 breed  age\n",
       "0       Pedro              Doberman    3\n",
       "1  Clementine      Golden Retriever    8\n",
       "2       Norah            Great Dane    6\n",
       "3       Mabel  Austrailian Shepherd    1\n",
       "4        Bear               Maltese    4\n",
       "5        Bill            Great Dane   10"
      ]
     },
     "execution_count": 25,
     "metadata": {},
     "output_type": "execute_result"
    }
   ],
   "source": [
    "dog_df"
   ]
  },
  {
   "cell_type": "markdown",
   "metadata": {},
   "source": [
    "### Merge Parameters"
   ]
  },
  {
   "cell_type": "markdown",
   "metadata": {},
   "source": [
    "**Syntax:** \n",
    "\n",
    "DataFrame.merge(**right**, **how**='inner', **on**=None, **left_on**=None, **right_on**=None, left_index=False, right_index=False, sort=False, suffixes=('_x', '_y'), copy=True, indicator=False, validate=None)"
   ]
  },
  {
   "cell_type": "markdown",
   "metadata": {},
   "source": [
    "* **right** : DataFrame\n",
    "* **how** : {‘left’, ‘right’, ‘outer’, ‘inner’}, default ‘inner’\n",
    "  * left: use only keys from left frame, similar to a SQL left outer join; preserve key order\n",
    "  * right: use only keys from right frame, similar to a SQL right outer join; preserve key order\n",
    "  * outer: use union of keys from both frames, similar to a SQL full outer join; sort keys lexicographically\n",
    "  * inner: use intersection of keys from both frames, similar to a SQL inner join; preserve the order of the left keys\n",
    "* **on** : label or list. Column or index level names to join on. These must be found in both DataFrames. If on is None and not merging on indexes then this defaults to the intersection of the columns in both DataFrames.\n",
    "* **left_on** : label or list, or array-like. Column or index level names to join on in the left DataFrame. Can also be an array or list of arrays of the length of the left DataFrame. These arrays are treated as if they are columns.\n",
    "* **right_on** : label or list, or array-like Column or index level names to join on in the right DataFrame. Can also be an array or list of arrays of the length of the right DataFrame. These arrays are treated as if they are columns.\n",
    "\n",
    "More information about the parameters is here: https://pandas.pydata.org/pandas-docs/stable/generated/pandas.DataFrame.merge.html"
   ]
  },
  {
   "cell_type": "markdown",
   "metadata": {},
   "source": [
    "| Merge method | SQL Join Name | Description |\n",
    "| -------------|---------------|-------------|\n",
    "| left | LEFT OUTER JOIN | Use keys from left frame only | \n",
    "| right | RIGHT OUTER JOIN | Use keys from right frame only |\n",
    "| outer | FULL OUTER JOIN | Use union of keys from both frames |\n",
    "| inner | INNER JOIN | Use intersection of keys from both frames |"
   ]
  },
  {
   "cell_type": "markdown",
   "metadata": {},
   "source": [
    "### Inner Merge"
   ]
  },
  {
   "cell_type": "code",
   "execution_count": 26,
   "metadata": {},
   "outputs": [],
   "source": [
    "inner_df = owner_df.merge(dog_df, left_on='dog_name', right_on='name', how='inner')"
   ]
  },
  {
   "cell_type": "code",
   "execution_count": 27,
   "metadata": {},
   "outputs": [
    {
     "data": {
      "text/html": [
       "<div>\n",
       "<style scoped>\n",
       "    .dataframe tbody tr th:only-of-type {\n",
       "        vertical-align: middle;\n",
       "    }\n",
       "\n",
       "    .dataframe tbody tr th {\n",
       "        vertical-align: top;\n",
       "    }\n",
       "\n",
       "    .dataframe thead th {\n",
       "        text-align: right;\n",
       "    }\n",
       "</style>\n",
       "<table border=\"1\" class=\"dataframe\">\n",
       "  <thead>\n",
       "    <tr style=\"text-align: right;\">\n",
       "      <th></th>\n",
       "      <th>owner_name</th>\n",
       "      <th>dog_name</th>\n",
       "      <th>name</th>\n",
       "      <th>breed</th>\n",
       "      <th>age</th>\n",
       "    </tr>\n",
       "  </thead>\n",
       "  <tbody>\n",
       "    <tr>\n",
       "      <th>0</th>\n",
       "      <td>Bilbo</td>\n",
       "      <td>Pedro</td>\n",
       "      <td>Pedro</td>\n",
       "      <td>Doberman</td>\n",
       "      <td>3</td>\n",
       "    </tr>\n",
       "    <tr>\n",
       "      <th>1</th>\n",
       "      <td>Gandalf</td>\n",
       "      <td>Bear</td>\n",
       "      <td>Bear</td>\n",
       "      <td>Maltese</td>\n",
       "      <td>4</td>\n",
       "    </tr>\n",
       "    <tr>\n",
       "      <th>2</th>\n",
       "      <td>Sam</td>\n",
       "      <td>Bill</td>\n",
       "      <td>Bill</td>\n",
       "      <td>Great Dane</td>\n",
       "      <td>10</td>\n",
       "    </tr>\n",
       "  </tbody>\n",
       "</table>\n",
       "</div>"
      ],
      "text/plain": [
       "  owner_name dog_name   name       breed  age\n",
       "0      Bilbo    Pedro  Pedro    Doberman    3\n",
       "1    Gandalf     Bear   Bear     Maltese    4\n",
       "2        Sam     Bill   Bill  Great Dane   10"
      ]
     },
     "execution_count": 27,
     "metadata": {},
     "output_type": "execute_result"
    }
   ],
   "source": [
    "inner_df"
   ]
  },
  {
   "cell_type": "code",
   "execution_count": 28,
   "metadata": {},
   "outputs": [],
   "source": [
    "inner_df=inner_df.drop(['name'],axis=1)"
   ]
  },
  {
   "cell_type": "code",
   "execution_count": 29,
   "metadata": {},
   "outputs": [
    {
     "data": {
      "text/html": [
       "<div>\n",
       "<style scoped>\n",
       "    .dataframe tbody tr th:only-of-type {\n",
       "        vertical-align: middle;\n",
       "    }\n",
       "\n",
       "    .dataframe tbody tr th {\n",
       "        vertical-align: top;\n",
       "    }\n",
       "\n",
       "    .dataframe thead th {\n",
       "        text-align: right;\n",
       "    }\n",
       "</style>\n",
       "<table border=\"1\" class=\"dataframe\">\n",
       "  <thead>\n",
       "    <tr style=\"text-align: right;\">\n",
       "      <th></th>\n",
       "      <th>owner_name</th>\n",
       "      <th>dog_name</th>\n",
       "      <th>breed</th>\n",
       "      <th>age</th>\n",
       "    </tr>\n",
       "  </thead>\n",
       "  <tbody>\n",
       "    <tr>\n",
       "      <th>0</th>\n",
       "      <td>Bilbo</td>\n",
       "      <td>Pedro</td>\n",
       "      <td>Doberman</td>\n",
       "      <td>3</td>\n",
       "    </tr>\n",
       "    <tr>\n",
       "      <th>1</th>\n",
       "      <td>Gandalf</td>\n",
       "      <td>Bear</td>\n",
       "      <td>Maltese</td>\n",
       "      <td>4</td>\n",
       "    </tr>\n",
       "    <tr>\n",
       "      <th>2</th>\n",
       "      <td>Sam</td>\n",
       "      <td>Bill</td>\n",
       "      <td>Great Dane</td>\n",
       "      <td>10</td>\n",
       "    </tr>\n",
       "  </tbody>\n",
       "</table>\n",
       "</div>"
      ],
      "text/plain": [
       "  owner_name dog_name       breed  age\n",
       "0      Bilbo    Pedro    Doberman    3\n",
       "1    Gandalf     Bear     Maltese    4\n",
       "2        Sam     Bill  Great Dane   10"
      ]
     },
     "execution_count": 29,
     "metadata": {},
     "output_type": "execute_result"
    }
   ],
   "source": [
    "inner_df"
   ]
  },
  {
   "cell_type": "markdown",
   "metadata": {},
   "source": [
    "### Left Merge"
   ]
  },
  {
   "cell_type": "code",
   "execution_count": 30,
   "metadata": {},
   "outputs": [],
   "source": [
    "left_df = owner_df.merge(dog_df, left_on='dog_name', right_on='name', how='left')"
   ]
  },
  {
   "cell_type": "code",
   "execution_count": 31,
   "metadata": {},
   "outputs": [
    {
     "data": {
      "text/html": [
       "<div>\n",
       "<style scoped>\n",
       "    .dataframe tbody tr th:only-of-type {\n",
       "        vertical-align: middle;\n",
       "    }\n",
       "\n",
       "    .dataframe tbody tr th {\n",
       "        vertical-align: top;\n",
       "    }\n",
       "\n",
       "    .dataframe thead th {\n",
       "        text-align: right;\n",
       "    }\n",
       "</style>\n",
       "<table border=\"1\" class=\"dataframe\">\n",
       "  <thead>\n",
       "    <tr style=\"text-align: right;\">\n",
       "      <th></th>\n",
       "      <th>owner_name</th>\n",
       "      <th>dog_name</th>\n",
       "      <th>name</th>\n",
       "      <th>breed</th>\n",
       "      <th>age</th>\n",
       "    </tr>\n",
       "  </thead>\n",
       "  <tbody>\n",
       "    <tr>\n",
       "      <th>0</th>\n",
       "      <td>Bilbo</td>\n",
       "      <td>Pedro</td>\n",
       "      <td>Pedro</td>\n",
       "      <td>Doberman</td>\n",
       "      <td>3</td>\n",
       "    </tr>\n",
       "    <tr>\n",
       "      <th>1</th>\n",
       "      <td>Gandalf</td>\n",
       "      <td>Bear</td>\n",
       "      <td>Bear</td>\n",
       "      <td>Maltese</td>\n",
       "      <td>4</td>\n",
       "    </tr>\n",
       "    <tr>\n",
       "      <th>2</th>\n",
       "      <td>Sam</td>\n",
       "      <td>Bill</td>\n",
       "      <td>Bill</td>\n",
       "      <td>Great Dane</td>\n",
       "      <td>10</td>\n",
       "    </tr>\n",
       "  </tbody>\n",
       "</table>\n",
       "</div>"
      ],
      "text/plain": [
       "  owner_name dog_name   name       breed  age\n",
       "0      Bilbo    Pedro  Pedro    Doberman    3\n",
       "1    Gandalf     Bear   Bear     Maltese    4\n",
       "2        Sam     Bill   Bill  Great Dane   10"
      ]
     },
     "execution_count": 31,
     "metadata": {},
     "output_type": "execute_result"
    }
   ],
   "source": [
    "left_df"
   ]
  },
  {
   "cell_type": "markdown",
   "metadata": {},
   "source": [
    "### Right Merge"
   ]
  },
  {
   "cell_type": "code",
   "execution_count": 32,
   "metadata": {},
   "outputs": [],
   "source": [
    "right_df = owner_df.merge(dog_df, left_on='dog_name', right_on='name', how='right')"
   ]
  },
  {
   "cell_type": "code",
   "execution_count": 33,
   "metadata": {},
   "outputs": [
    {
     "data": {
      "text/html": [
       "<div>\n",
       "<style scoped>\n",
       "    .dataframe tbody tr th:only-of-type {\n",
       "        vertical-align: middle;\n",
       "    }\n",
       "\n",
       "    .dataframe tbody tr th {\n",
       "        vertical-align: top;\n",
       "    }\n",
       "\n",
       "    .dataframe thead th {\n",
       "        text-align: right;\n",
       "    }\n",
       "</style>\n",
       "<table border=\"1\" class=\"dataframe\">\n",
       "  <thead>\n",
       "    <tr style=\"text-align: right;\">\n",
       "      <th></th>\n",
       "      <th>owner_name</th>\n",
       "      <th>dog_name</th>\n",
       "      <th>name</th>\n",
       "      <th>breed</th>\n",
       "      <th>age</th>\n",
       "    </tr>\n",
       "  </thead>\n",
       "  <tbody>\n",
       "    <tr>\n",
       "      <th>0</th>\n",
       "      <td>Bilbo</td>\n",
       "      <td>Pedro</td>\n",
       "      <td>Pedro</td>\n",
       "      <td>Doberman</td>\n",
       "      <td>3</td>\n",
       "    </tr>\n",
       "    <tr>\n",
       "      <th>1</th>\n",
       "      <td>Gandalf</td>\n",
       "      <td>Bear</td>\n",
       "      <td>Bear</td>\n",
       "      <td>Maltese</td>\n",
       "      <td>4</td>\n",
       "    </tr>\n",
       "    <tr>\n",
       "      <th>2</th>\n",
       "      <td>Sam</td>\n",
       "      <td>Bill</td>\n",
       "      <td>Bill</td>\n",
       "      <td>Great Dane</td>\n",
       "      <td>10</td>\n",
       "    </tr>\n",
       "    <tr>\n",
       "      <th>3</th>\n",
       "      <td>NaN</td>\n",
       "      <td>NaN</td>\n",
       "      <td>Clementine</td>\n",
       "      <td>Golden Retriever</td>\n",
       "      <td>8</td>\n",
       "    </tr>\n",
       "    <tr>\n",
       "      <th>4</th>\n",
       "      <td>NaN</td>\n",
       "      <td>NaN</td>\n",
       "      <td>Norah</td>\n",
       "      <td>Great Dane</td>\n",
       "      <td>6</td>\n",
       "    </tr>\n",
       "    <tr>\n",
       "      <th>5</th>\n",
       "      <td>NaN</td>\n",
       "      <td>NaN</td>\n",
       "      <td>Mabel</td>\n",
       "      <td>Austrailian Shepherd</td>\n",
       "      <td>1</td>\n",
       "    </tr>\n",
       "  </tbody>\n",
       "</table>\n",
       "</div>"
      ],
      "text/plain": [
       "  owner_name dog_name        name                 breed  age\n",
       "0      Bilbo    Pedro       Pedro              Doberman    3\n",
       "1    Gandalf     Bear        Bear               Maltese    4\n",
       "2        Sam     Bill        Bill            Great Dane   10\n",
       "3        NaN      NaN  Clementine      Golden Retriever    8\n",
       "4        NaN      NaN       Norah            Great Dane    6\n",
       "5        NaN      NaN       Mabel  Austrailian Shepherd    1"
      ]
     },
     "execution_count": 33,
     "metadata": {},
     "output_type": "execute_result"
    }
   ],
   "source": [
    "right_df"
   ]
  },
  {
   "cell_type": "markdown",
   "metadata": {},
   "source": [
    "### Outer Merge"
   ]
  },
  {
   "cell_type": "code",
   "execution_count": 34,
   "metadata": {},
   "outputs": [],
   "source": [
    "outer_df = owner_df.merge(dog_df, left_on='dog_name', right_on='name', how='outer')"
   ]
  },
  {
   "cell_type": "code",
   "execution_count": 35,
   "metadata": {},
   "outputs": [
    {
     "data": {
      "text/html": [
       "<div>\n",
       "<style scoped>\n",
       "    .dataframe tbody tr th:only-of-type {\n",
       "        vertical-align: middle;\n",
       "    }\n",
       "\n",
       "    .dataframe tbody tr th {\n",
       "        vertical-align: top;\n",
       "    }\n",
       "\n",
       "    .dataframe thead th {\n",
       "        text-align: right;\n",
       "    }\n",
       "</style>\n",
       "<table border=\"1\" class=\"dataframe\">\n",
       "  <thead>\n",
       "    <tr style=\"text-align: right;\">\n",
       "      <th></th>\n",
       "      <th>owner_name</th>\n",
       "      <th>dog_name</th>\n",
       "      <th>name</th>\n",
       "      <th>breed</th>\n",
       "      <th>age</th>\n",
       "    </tr>\n",
       "  </thead>\n",
       "  <tbody>\n",
       "    <tr>\n",
       "      <th>0</th>\n",
       "      <td>Bilbo</td>\n",
       "      <td>Pedro</td>\n",
       "      <td>Pedro</td>\n",
       "      <td>Doberman</td>\n",
       "      <td>3</td>\n",
       "    </tr>\n",
       "    <tr>\n",
       "      <th>1</th>\n",
       "      <td>Gandalf</td>\n",
       "      <td>Bear</td>\n",
       "      <td>Bear</td>\n",
       "      <td>Maltese</td>\n",
       "      <td>4</td>\n",
       "    </tr>\n",
       "    <tr>\n",
       "      <th>2</th>\n",
       "      <td>Sam</td>\n",
       "      <td>Bill</td>\n",
       "      <td>Bill</td>\n",
       "      <td>Great Dane</td>\n",
       "      <td>10</td>\n",
       "    </tr>\n",
       "    <tr>\n",
       "      <th>3</th>\n",
       "      <td>NaN</td>\n",
       "      <td>NaN</td>\n",
       "      <td>Clementine</td>\n",
       "      <td>Golden Retriever</td>\n",
       "      <td>8</td>\n",
       "    </tr>\n",
       "    <tr>\n",
       "      <th>4</th>\n",
       "      <td>NaN</td>\n",
       "      <td>NaN</td>\n",
       "      <td>Norah</td>\n",
       "      <td>Great Dane</td>\n",
       "      <td>6</td>\n",
       "    </tr>\n",
       "    <tr>\n",
       "      <th>5</th>\n",
       "      <td>NaN</td>\n",
       "      <td>NaN</td>\n",
       "      <td>Mabel</td>\n",
       "      <td>Austrailian Shepherd</td>\n",
       "      <td>1</td>\n",
       "    </tr>\n",
       "  </tbody>\n",
       "</table>\n",
       "</div>"
      ],
      "text/plain": [
       "  owner_name dog_name        name                 breed  age\n",
       "0      Bilbo    Pedro       Pedro              Doberman    3\n",
       "1    Gandalf     Bear        Bear               Maltese    4\n",
       "2        Sam     Bill        Bill            Great Dane   10\n",
       "3        NaN      NaN  Clementine      Golden Retriever    8\n",
       "4        NaN      NaN       Norah            Great Dane    6\n",
       "5        NaN      NaN       Mabel  Austrailian Shepherd    1"
      ]
     },
     "execution_count": 35,
     "metadata": {},
     "output_type": "execute_result"
    }
   ],
   "source": [
    "outer_df"
   ]
  },
  {
   "cell_type": "markdown",
   "metadata": {},
   "source": [
    "## Apache Spark, Jupyter & Elasticsearch"
   ]
  },
  {
   "cell_type": "markdown",
   "metadata": {},
   "source": [
    "## Check the current Spark Session via the variable spark"
   ]
  },
  {
   "cell_type": "markdown",
   "metadata": {},
   "source": [
    "You control your Spark Application through a driver process called the SparkSession\n",
    "* The SparkSession instance is the way Spark executes user-defined manipulations across the cluster\n",
    "* There is a one-to-one correspondence between a SparkSession and a Spark Application. \n",
    "* In Scala and Python, the variable is available as **spark** when you start the console. \n",
    "* Let’s go ahead and look at the SparkSession in Python:\n",
    "\n",
    "Reference: Chambers, Bill; Zaharia, Matei. Spark: The Definitive Guide: Big Data Processing Made Simple (Kindle Locations 436-439). O'Reilly Media. Kindle Edition. "
   ]
  },
  {
   "cell_type": "code",
   "execution_count": 36,
   "metadata": {},
   "outputs": [
    {
     "data": {
      "text/html": [
       "\n",
       "            <div>\n",
       "                <p><b>SparkSession - hive</b></p>\n",
       "                \n",
       "        <div>\n",
       "            <p><b>SparkContext</b></p>\n",
       "\n",
       "            <p><a href=\"http://10.0.1.71:4041\">Spark UI</a></p>\n",
       "\n",
       "            <dl>\n",
       "              <dt>Version</dt>\n",
       "                <dd><code>v2.3.1</code></dd>\n",
       "              <dt>Master</dt>\n",
       "                <dd><code>spark://10.0.1.50:7077</code></dd>\n",
       "              <dt>AppName</dt>\n",
       "                <dd><code>pyspark-shell</code></dd>\n",
       "            </dl>\n",
       "        </div>\n",
       "        \n",
       "            </div>\n",
       "        "
      ],
      "text/plain": [
       "<pyspark.sql.session.SparkSession at 0x7fdb4d40e240>"
      ]
     },
     "execution_count": 36,
     "metadata": {},
     "output_type": "execute_result"
    }
   ],
   "source": [
    "spark"
   ]
  },
  {
   "cell_type": "markdown",
   "metadata": {},
   "source": [
    "SparkSession.sparkContext returns the underlying SparkContext"
   ]
  },
  {
   "cell_type": "markdown",
   "metadata": {},
   "source": [
    "## Creating a Spark Session"
   ]
  },
  {
   "cell_type": "markdown",
   "metadata": {},
   "source": [
    "A SparkSession can be created using a builder pattern.\n",
    "* The builder automatically reuse an existing SparkContext if one exists and creates a SparkContext if it does not exist\n",
    "* You can have as many SparkSessions as you want in a single Spark application\n",
    "* The common use case is to keep relational entities separate logically in catalogs per SparkSession\n",
    "\n",
    "Reference: https://jaceklaskowski.gitbooks.io/mastering-spark-sql/spark-sql-SparkSession.html\n",
    "\n",
    "Let's create a new **Spark Session** to interact with our Elasticsearch server:"
   ]
  },
  {
   "cell_type": "code",
   "execution_count": 37,
   "metadata": {},
   "outputs": [],
   "source": [
    "es_sparksession = (SparkSession\n",
    "                  .builder\n",
    "                  .appName(\"HELK\")\n",
    "                  .config(\"es.read.field.as.array.include\", \"tags\")\n",
    "                  .config(\"es.nodes\",\"10.0.1.10:9200\")\n",
    "                  .config(\"es.net.http.auth.user\",\"elastic\")\n",
    "                  .config(\"es.net.http.auth.pass\",\"As3gura3lS3rv1d0rAm1g0!\")\n",
    "                  .getOrCreate()\n",
    ")"
   ]
  },
  {
   "cell_type": "markdown",
   "metadata": {},
   "source": [
    "## Read data from the HELK via Spark SQL"
   ]
  },
  {
   "cell_type": "markdown",
   "metadata": {},
   "source": [
    "### Using the Data Frame API to access Elasticsearch index (Elasticsearch-Sysmon Index)"
   ]
  },
  {
   "cell_type": "markdown",
   "metadata": {},
   "source": [
    "Spark SQL is a Spark module for structured data processing. It provides a programming abstraction called DataFrames and can also act as distributed SQL query engine\n",
    "* Elasticsearch becomes a native source for Spark SQL so that data can be indexed and queried from Spark SQL transparently\n",
    "* Spark SQL works with structured data - in other words, all entries are expected to have the same structure (same number of fields, of the same type and name)\n",
    "* Using unstructured data (documents with different structures) is not supported and will cause problems.\n",
    "* Through the **org.elasticsearch.spark.sql** package, esDF methods are available on the SQLContext API\n",
    "\n",
    "Reference: https://www.elastic.co/guide/en/elasticsearch/hadoop/current/spark.html"
   ]
  },
  {
   "cell_type": "code",
   "execution_count": 38,
   "metadata": {},
   "outputs": [],
   "source": [
    "es_reader = (es_sparksession\n",
    "          .read\n",
    "          .format(\"org.elasticsearch.spark.sql\")\n",
    "          .option(\"inferSchema\", \"true\")\n",
    ")"
   ]
  },
  {
   "cell_type": "code",
   "execution_count": 39,
   "metadata": {},
   "outputs": [
    {
     "name": "stdout",
     "output_type": "stream",
     "text": [
      "CPU times: user 1.42 ms, sys: 269 µs, total: 1.69 ms\n",
      "Wall time: 5 s\n"
     ]
    }
   ],
   "source": [
    "%%time\n",
    "sysmon_df = es_reader.load(\"logs-endpoint-winevent-sysmon-*/doc\")"
   ]
  },
  {
   "cell_type": "markdown",
   "metadata": {},
   "source": [
    "**Load**: Loads data from a data source and returns it as a :class`DataFrame`.\n",
    "Reference: http://spark.apache.org/docs/2.2.0/api/python/pyspark.sql.html#pyspark.sql.DataFrameReader.load"
   ]
  },
  {
   "cell_type": "markdown",
   "metadata": {},
   "source": [
    "## Filter Operation"
   ]
  },
  {
   "cell_type": "markdown",
   "metadata": {},
   "source": [
    "**Filter**: Filters rows using the given condition.\n",
    "* where() is an alias for filter().\n",
    "\n",
    "Reference: http://spark.apache.org/docs/2.1.0/api/python/pyspark.sql.html#pyspark.sql.DataFrame.filter\n",
    "\n",
    "Filter our the data to only show certain data fields and events with the action **\"processcreate\"** which is Sysmon Event ID 1"
   ]
  },
  {
   "cell_type": "code",
   "execution_count": 40,
   "metadata": {},
   "outputs": [],
   "source": [
    "processcreate_df = sysmon_df.filter(sysmon_df.action == \"processcreate\")"
   ]
  },
  {
   "cell_type": "markdown",
   "metadata": {},
   "source": [
    "## Select Operation"
   ]
  },
  {
   "cell_type": "markdown",
   "metadata": {},
   "source": [
    "You can select a few columns from your dataframe with the **select** method.\n",
    "\n",
    "**Select**: Projects a set of expressions and returns a new DataFrame\n",
    "* Remember that select is a transformation, and it returns a new DataFrame. It does not modify the original datafrane. To see the resulting DataFrame, we will need to trigger an action, such as show.\n",
    "\n",
    "Reference: http://spark.apache.org/docs/2.1.0/api/python/pyspark.sql.html#pyspark.sql.DataFrame.select"
   ]
  },
  {
   "cell_type": "code",
   "execution_count": 41,
   "metadata": {},
   "outputs": [],
   "source": [
    "processcreate_df = processcreate_df.select(\"process_guid\",\"process_parent_name\",\"process_parent_command_line\",\"process_name\",\"process_command_line\",\"action\",\"@timestamp\")"
   ]
  },
  {
   "cell_type": "code",
   "execution_count": 42,
   "metadata": {},
   "outputs": [
    {
     "name": "stdout",
     "output_type": "stream",
     "text": [
      "+--------------------+-------------------+---------------------------+-------------------+--------------------+-------------+--------------------+\n",
      "|        process_guid|process_parent_name|process_parent_command_line|       process_name|process_command_line|       action|          @timestamp|\n",
      "+--------------------+-------------------+---------------------------+-------------------+--------------------+-------------+--------------------+\n",
      "|8A57C8BC-B7C0-5B9...|       services.exe|       C:\\Windows\\system...|       taskhost.exe|taskhost.exe $(Arg0)|processcreate|2018-09-13 01:05:...|\n",
      "|5CFEADD3-B7BB-5B9...|        svchost.exe|       C:\\Windows\\system...|        dllhost.exe|C:\\Windows\\system...|processcreate|2018-09-13 01:04:...|\n",
      "|B4F10000-B7D4-5B9...|ServiceModelReg.exe|       \"C:\\Windows\\Micro...|       wevtutil.exe| im C:\\Windows\\Mi...|processcreate|2018-09-13 01:05:...|\n",
      "|B4F10000-B7D5-5B9...|        msiexec.exe|       C:\\Windows\\syswow...|ServiceModelReg.exe|\"C:\\Windows\\Micro...|processcreate|2018-09-13 01:05:...|\n",
      "|B4F10000-B7D3-5B9...|        msiexec.exe|       C:\\Windows\\system...|ServiceModelReg.exe|\"C:\\Windows\\Micro...|processcreate|2018-09-13 01:05:...|\n",
      "|B4F10000-B7D3-5B9...|          csrss.exe|       %SystemRoot%\\syst...|        conhost.exe|\\??\\C:\\Windows\\sy...|processcreate|2018-09-13 01:05:...|\n",
      "|B4F10000-B7D9-5B9...|        msiexec.exe|       C:\\Windows\\syswow...|     regtlibv12.exe|\"C:\\Windows\\Micro...|processcreate|2018-09-13 01:05:...|\n",
      "|B4F10000-B7D9-5B9...|          csrss.exe|       %SystemRoot%\\syst...|        conhost.exe|\\??\\C:\\Windows\\sy...|processcreate|2018-09-13 01:05:...|\n",
      "|B4F10000-B7DA-5B9...|          csrss.exe|       %SystemRoot%\\syst...|        conhost.exe|\\??\\C:\\Windows\\sy...|processcreate|2018-09-13 01:05:...|\n",
      "|B4F10000-B7DA-5B9...|          csrss.exe|       %SystemRoot%\\syst...|        conhost.exe|\\??\\C:\\Windows\\sy...|processcreate|2018-09-13 01:05:...|\n",
      "+--------------------+-------------------+---------------------------+-------------------+--------------------+-------------+--------------------+\n",
      "only showing top 10 rows\n",
      "\n",
      "CPU times: user 2.29 ms, sys: 0 ns, total: 2.29 ms\n",
      "Wall time: 6.11 s\n"
     ]
    }
   ],
   "source": [
    "%%time\n",
    "processcreate_df.show(10)"
   ]
  },
  {
   "cell_type": "markdown",
   "metadata": {},
   "source": [
    "## Create Dataframes from the original Sysmon Dataframe (Preparing for a JOIN)"
   ]
  },
  {
   "cell_type": "markdown",
   "metadata": {},
   "source": [
    "* Filter the original **sysmon_df** dataframe\n",
    "* Select specific columns\n",
    "* display results"
   ]
  },
  {
   "cell_type": "markdown",
   "metadata": {},
   "source": [
    "### NetworkConnect Events"
   ]
  },
  {
   "cell_type": "markdown",
   "metadata": {},
   "source": [
    "We are going to use the network events logged by Sysmon (Event ID 3)"
   ]
  },
  {
   "cell_type": "code",
   "execution_count": 43,
   "metadata": {},
   "outputs": [],
   "source": [
    "networkconnect_df = sysmon_df.filter(sysmon_df.action == \"networkconnect\")"
   ]
  },
  {
   "cell_type": "code",
   "execution_count": 44,
   "metadata": {},
   "outputs": [],
   "source": [
    "networkconnect_df = networkconnect_df.select(\"process_guid\",\"dst_ip_addr\",\"dst_port\",\"dst_host_name\",\"action\",\"@timestamp\")"
   ]
  },
  {
   "cell_type": "code",
   "execution_count": 45,
   "metadata": {},
   "outputs": [
    {
     "name": "stdout",
     "output_type": "stream",
     "text": [
      "+------------------------------------+--------------+--------+-------------+--------------+-----------------------+\n",
      "|process_guid                        |dst_ip_addr   |dst_port|dst_host_name|action        |@timestamp             |\n",
      "+------------------------------------+--------------+--------+-------------+--------------+-----------------------+\n",
      "|2AC42BF9-398D-5B98-0000-00104C270200|192.168.18.51 |48149   |null         |networkconnect|2018-09-13 00:00:04.126|\n",
      "|0300CBFA-4E3F-5B98-0000-00102DDE0100|168.63.129.16 |80      |null         |networkconnect|2018-09-13 00:00:00.364|\n",
      "|7F66EA28-2FFC-5B99-0000-00109F3FF400|138.68.236.114|80      |null         |networkconnect|2018-09-13 00:00:03.301|\n",
      "|7F66EA28-5D0B-5B99-0000-0010C0331101|138.68.236.114|80      |null         |networkconnect|2018-09-13 00:00:01.972|\n",
      "|CB6FAB7D-8B45-5B99-0000-0010DE57E001|138.68.236.114|80      |null         |networkconnect|2018-09-13 00:00:03.845|\n",
      "|2AC42BF9-398D-5B98-0000-00104C270200|192.168.18.51 |58869   |null         |networkconnect|2018-09-13 00:00:07.182|\n",
      "|2AC42BF9-398D-5B98-0000-00104C270200|192.168.18.51 |42403   |null         |networkconnect|2018-09-13 00:00:00.835|\n",
      "|CB6FAB7D-88BC-5B99-0000-00109BD9CE01|138.68.236.114|80      |null         |networkconnect|2018-09-13 00:00:04.754|\n",
      "|CB6FAB7D-6985-5B99-0000-0010BDA38101|138.68.236.114|80      |null         |networkconnect|2018-09-13 00:00:06.197|\n",
      "|CB6FAB7D-88BC-5B99-0000-00109BD9CE01|138.68.236.114|80      |null         |networkconnect|2018-09-13 00:00:35.481|\n",
      "+------------------------------------+--------------+--------+-------------+--------------+-----------------------+\n",
      "only showing top 10 rows\n",
      "\n"
     ]
    }
   ],
   "source": [
    "networkconnect_df.show(10,truncate=False)"
   ]
  },
  {
   "cell_type": "markdown",
   "metadata": {},
   "source": [
    "### FileCreate Event"
   ]
  },
  {
   "cell_type": "code",
   "execution_count": 46,
   "metadata": {},
   "outputs": [],
   "source": [
    "filecreate_df = sysmon_df.filter(sysmon_df.action == \"filecreate\")"
   ]
  },
  {
   "cell_type": "code",
   "execution_count": 47,
   "metadata": {},
   "outputs": [],
   "source": [
    "filecreate_df = filecreate_df.select(\"process_guid\",\"file_name\",\"action\",\"@timestamp\")"
   ]
  },
  {
   "cell_type": "code",
   "execution_count": 48,
   "metadata": {},
   "outputs": [
    {
     "name": "stdout",
     "output_type": "stream",
     "text": [
      "+------------------------------------+--------------------------------------------------------------------+----------+-----------------------+\n",
      "|process_guid                        |file_name                                                           |action    |@timestamp             |\n",
      "+------------------------------------+--------------------------------------------------------------------+----------+-----------------------+\n",
      "|2AC42BF9-397E-5B98-0000-001011FD0000|c:\\windows\\serviceprofiles\\localservice\\appdata\\local\\lastalive1.dat|filecreate|2018-09-12 15:41:15.796|\n",
      "|1EC6E006-4E9E-5B98-0000-0010E9BB0100|c:\\windowsazure\\logs\\aggregatestatus\\aggregatestatus.json           |filecreate|2018-09-12 15:41:35.448|\n",
      "|3E552A78-4E41-5B98-0000-0010B8BF0100|c:\\windowsazure\\logs\\aggregatestatus\\aggregatestatus.json           |filecreate|2018-09-12 15:41:54.736|\n",
      "|2AC42BF9-398D-5B98-0000-0010822D0200|c:\\windowsazure\\logs\\aggregatestatus\\aggregatestatus.json           |filecreate|2018-09-12 15:41:38.602|\n",
      "|1EC6E006-4E9E-5B98-0000-0010E9BB0100|c:\\windowsazure\\logs\\aggregatestatus\\aggregatestatus.json           |filecreate|2018-09-12 15:41:49.947|\n",
      "|51B208EE-4640-5B98-0000-001064061100|c:\\windowsazure\\logs\\aggregatestatus\\aggregatestatus.json           |filecreate|2018-09-12 15:41:44.224|\n",
      "|0300CBFA-4E3C-5B98-0000-0010DFBC0100|c:\\windowsazure\\logs\\aggregatestatus\\aggregatestatus.json           |filecreate|2018-09-12 15:41:52.233|\n",
      "|51B208EE-4640-5B98-0000-001064061100|c:\\windowsazure\\logs\\aggregatestatus\\aggregatestatus.json           |filecreate|2018-09-12 15:41:29.561|\n",
      "|B4F10000-4E43-5B98-0000-0010D1BB0100|c:\\windowsazure\\logs\\aggregatestatus\\aggregatestatus.json           |filecreate|2018-09-12 15:41:30.544|\n",
      "|57590CD3-4E37-5B98-0000-00108FBA0100|c:\\windowsazure\\logs\\aggregatestatus\\aggregatestatus.json           |filecreate|2018-09-12 15:41:55.197|\n",
      "+------------------------------------+--------------------------------------------------------------------+----------+-----------------------+\n",
      "only showing top 10 rows\n",
      "\n",
      "CPU times: user 1.5 ms, sys: 283 µs, total: 1.78 ms\n",
      "Wall time: 4.51 s\n"
     ]
    }
   ],
   "source": [
    "%%time\n",
    "filecreate_df.show(10,truncate=False)"
   ]
  },
  {
   "cell_type": "markdown",
   "metadata": {},
   "source": [
    "## Spark JOINs & Sysmon Data"
   ]
  },
  {
   "cell_type": "markdown",
   "metadata": {},
   "source": [
    "Syntax: **join**(other, on=None, how=None)\n",
    "\n",
    "Joins with another DataFrame, using the given join expression.\n",
    "\n",
    "Parameters:\t\n",
    "* **other** – Right side of the join\n",
    "* **on** – a string for the join column name, a list of column names, a join expression (Column), or a list of Columns. If on is a string or a list of strings indicating the name of the join column(s), the column(s) must exist on both sides, and this performs an equi-join.\n",
    "* **how** – str, default ‘inner’. One of inner, outer, left_outer, right_outer, leftsemi.\n",
    "\n",
    "Reference: http://spark.apache.org/docs/2.1.0/api/python/pyspark.sql.html#pyspark.sql.DataFrame.join"
   ]
  },
  {
   "cell_type": "markdown",
   "metadata": {},
   "source": [
    "### ProcessCreate -> NetworkCreate"
   ]
  },
  {
   "cell_type": "code",
   "execution_count": 49,
   "metadata": {},
   "outputs": [],
   "source": [
    "process_network_df = processcreate_df.join(networkconnect_df, \"process_guid\", how=\"inner\")"
   ]
  },
  {
   "cell_type": "code",
   "execution_count": 50,
   "metadata": {},
   "outputs": [
    {
     "name": "stdout",
     "output_type": "stream",
     "text": [
      "+-------------------+--------------+--------------+\n",
      "|process_parent_name|process_name  |dst_ip_addr   |\n",
      "+-------------------+--------------+--------------+\n",
      "|svchost.exe        |taskhostw.exe |null          |\n",
      "|svchost.exe        |taskhostw.exe |null          |\n",
      "|svchost.exe        |taskhostw.exe |null          |\n",
      "|cmd.exe            |powershell.exe|138.68.236.114|\n",
      "|cmd.exe            |powershell.exe|138.68.236.114|\n",
      "|cmd.exe            |powershell.exe|138.68.236.114|\n",
      "|cmd.exe            |powershell.exe|138.68.236.114|\n",
      "|cmd.exe            |powershell.exe|138.68.236.114|\n",
      "|cmd.exe            |powershell.exe|138.68.236.114|\n",
      "|cmd.exe            |powershell.exe|138.68.236.114|\n",
      "|cmd.exe            |powershell.exe|138.68.236.114|\n",
      "|cmd.exe            |powershell.exe|138.68.236.114|\n",
      "|cmd.exe            |powershell.exe|138.68.236.114|\n",
      "|cmd.exe            |powershell.exe|138.68.236.114|\n",
      "|cmd.exe            |powershell.exe|138.68.236.114|\n",
      "|cmd.exe            |powershell.exe|138.68.236.114|\n",
      "|cmd.exe            |powershell.exe|138.68.236.114|\n",
      "|cmd.exe            |powershell.exe|138.68.236.114|\n",
      "|cmd.exe            |powershell.exe|138.68.236.114|\n",
      "|cmd.exe            |powershell.exe|138.68.236.114|\n",
      "+-------------------+--------------+--------------+\n",
      "only showing top 20 rows\n",
      "\n",
      "CPU times: user 0 ns, sys: 5.35 ms, total: 5.35 ms\n",
      "Wall time: 13.1 s\n"
     ]
    }
   ],
   "source": [
    "%%time\n",
    "process_network_df.select(\"process_parent_name\",\"process_name\",\"dst_ip_addr\").show(truncate=False)"
   ]
  },
  {
   "cell_type": "code",
   "execution_count": 51,
   "metadata": {},
   "outputs": [
    {
     "name": "stdout",
     "output_type": "stream",
     "text": [
      "+--------------------+-----+\n",
      "| process_parent_name|count|\n",
      "+--------------------+-----+\n",
      "|             cmd.exe|54831|\n",
      "|      powershell.exe|32882|\n",
      "|        WmiPrvSE.exe|32273|\n",
      "|        userinit.exe|13509|\n",
      "|        iexplore.exe| 7167|\n",
      "|        services.exe| 2573|\n",
      "|         wininit.exe| 2097|\n",
      "|         explore.exe|  441|\n",
      "|        explorer.exe|  205|\n",
      "|ndp46-kb4457035-x...|   54|\n",
      "|      WaAppAgent.exe|   52|\n",
      "|         svchost.exe|   19|\n",
      "|         soffice.exe|    6|\n",
      "|        MpCmdRun.exe|    3|\n",
      "|        mscorsvw.exe|    1|\n",
      "+--------------------+-----+\n",
      "\n",
      "CPU times: user 10.2 ms, sys: 269 µs, total: 10.5 ms\n",
      "Wall time: 14.2 s\n"
     ]
    }
   ],
   "source": [
    "%%time\n",
    "process_network_df.groupBy('process_parent_name').count().sort('count', ascending=False).show()"
   ]
  },
  {
   "cell_type": "code",
   "execution_count": 52,
   "metadata": {},
   "outputs": [
    {
     "name": "stdout",
     "output_type": "stream",
     "text": [
      "+---------------------------------------------------------------------------------------------------------------------------------------+------------+--------------+\n",
      "|process_parent_command_line                                                                                                            |process_name|dst_ip_addr   |\n",
      "+---------------------------------------------------------------------------------------------------------------------------------------+------------+--------------+\n",
      "|\"C:\\users\\localadmin\\explore.exe\"  privilege::debug \"sekurlsa::pth /user:nini.webb /domain:helk /ntlm:69d9783a25ce82f29ec78e70267f17c1\"|cmd.exe     |138.68.236.114|\n",
      "|\"C:\\users\\localadmin\\explore.exe\"  privilege::debug \"sekurlsa::pth /user:nini.webb /domain:helk /ntlm:69d9783a25ce82f29ec78e70267f17c1\"|cmd.exe     |138.68.236.114|\n",
      "|\"C:\\users\\localadmin\\explore.exe\"  privilege::debug \"sekurlsa::pth /user:nini.webb /domain:helk /ntlm:69d9783a25ce82f29ec78e70267f17c1\"|cmd.exe     |138.68.236.114|\n",
      "|\"C:\\users\\localadmin\\explore.exe\"  privilege::debug \"sekurlsa::pth /user:nini.webb /domain:helk /ntlm:69d9783a25ce82f29ec78e70267f17c1\"|cmd.exe     |138.68.236.114|\n",
      "|\"C:\\users\\localadmin\\explore.exe\"  privilege::debug \"sekurlsa::pth /user:nini.webb /domain:helk /ntlm:69d9783a25ce82f29ec78e70267f17c1\"|cmd.exe     |138.68.236.114|\n",
      "+---------------------------------------------------------------------------------------------------------------------------------------+------------+--------------+\n",
      "only showing top 5 rows\n",
      "\n",
      "CPU times: user 7.25 ms, sys: 0 ns, total: 7.25 ms\n",
      "Wall time: 14 s\n"
     ]
    }
   ],
   "source": [
    "%%time\n",
    "(process_network_df\n",
    "            .filter(process_network_df\n",
    "            .process_parent_name==\"explore.exe\")\n",
    "            .select(\"process_parent_command_line\",\"process_name\",\"dst_ip_addr\")\n",
    "            .show(5,truncate=False)\n",
    ")"
   ]
  },
  {
   "cell_type": "markdown",
   "metadata": {},
   "source": [
    "### ProcessCreate -> FileCreate"
   ]
  },
  {
   "cell_type": "markdown",
   "metadata": {},
   "source": [
    "Let's focus now on the least frequent events"
   ]
  },
  {
   "cell_type": "code",
   "execution_count": 53,
   "metadata": {},
   "outputs": [],
   "source": [
    "process_file_df = processcreate_df.join(filecreate_df, \"process_guid\", how=\"inner\")"
   ]
  },
  {
   "cell_type": "code",
   "execution_count": 54,
   "metadata": {},
   "outputs": [
    {
     "name": "stdout",
     "output_type": "stream",
     "text": [
      "+--------------------+-----+\n",
      "| process_parent_name|count|\n",
      "+--------------------+-----+\n",
      "| MusNotification.exe|    1|\n",
      "|         explore.exe|    1|\n",
      "|        MpCmdRun.exe|    2|\n",
      "|             csc.exe|    3|\n",
      "|                null|   10|\n",
      "|AM_Engine_Patch_1...|   12|\n",
      "|      powershell.exe|   17|\n",
      "|         taskeng.exe|   18|\n",
      "|        ie4uinit.exe|   28|\n",
      "|   aspnet_regiis.exe|   41|\n",
      "|        WmiPrvSE.exe|   56|\n",
      "|   HealthService.exe|   60|\n",
      "|        lpremove.exe|   80|\n",
      "|ndp46-kb4457035-x...|  110|\n",
      "|             cmd.exe|  128|\n",
      "| CompatTelRunner.exe|  179|\n",
      "|      WaAppAgent.exe|  622|\n",
      "|         svchost.exe|  688|\n",
      "|         wininit.exe|  795|\n",
      "|        userinit.exe|  901|\n",
      "+--------------------+-----+\n",
      "only showing top 20 rows\n",
      "\n",
      "CPU times: user 3.89 ms, sys: 745 µs, total: 4.63 ms\n",
      "Wall time: 13.9 s\n"
     ]
    }
   ],
   "source": [
    "%%time\n",
    "process_file_df.groupBy('process_parent_name').count().sort('count').show()"
   ]
  },
  {
   "cell_type": "markdown",
   "metadata": {},
   "source": [
    "### HOW DO YOU GO DEEPER INTO A SPECIFIC PROCESS PARENT NAME?? (BONUS)"
   ]
  },
  {
   "cell_type": "code",
   "execution_count": null,
   "metadata": {},
   "outputs": [],
   "source": []
  }
 ],
 "metadata": {
  "kernelspec": {
   "display_name": "PySpark_Python3",
   "language": "python",
   "name": "pyspark3"
  },
  "language_info": {
   "codemirror_mode": {
    "name": "ipython",
    "version": 3
   },
   "file_extension": ".py",
   "mimetype": "text/x-python",
   "name": "python",
   "nbconvert_exporter": "python",
   "pygments_lexer": "ipython3",
   "version": "3.5.2"
  }
 },
 "nbformat": 4,
 "nbformat_minor": 2
}
