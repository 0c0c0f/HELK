{
 "cells": [
  {
   "cell_type": "markdown",
   "metadata": {},
   "source": [
    "# HELK: Checking Spark and Graphframe Integrations\n",
    "----------------------------------------------------------------------------\n",
    "## Goals:\n",
    "* Test if Jupyter can talk to Spark & Graphframes\n",
    "* Test if Spark & Graphframes can pull data from ES\n",
    "* Show the basics of the HELK integrations with advanced analytics libraries"
   ]
  },
  {
   "cell_type": "markdown",
   "metadata": {},
   "source": [
    "## Check the Spark Context via the variable sc "
   ]
  },
  {
   "cell_type": "code",
   "execution_count": 1,
   "metadata": {},
   "outputs": [
    {
     "data": {
      "text/html": [
       "\n",
       "        <div>\n",
       "            <p><b>SparkContext</b></p>\n",
       "\n",
       "            <p><a href=\"http://172.18.0.4:4040\">Spark UI</a></p>\n",
       "\n",
       "            <dl>\n",
       "              <dt>Version</dt>\n",
       "                <dd><code>v2.2.1</code></dd>\n",
       "              <dt>Master</dt>\n",
       "                <dd><code>local[*]</code></dd>\n",
       "              <dt>AppName</dt>\n",
       "                <dd><code>PySparkShell</code></dd>\n",
       "            </dl>\n",
       "        </div>\n",
       "        "
      ],
      "text/plain": [
       "<SparkContext master=local[*] appName=PySparkShell>"
      ]
     },
     "execution_count": 1,
     "metadata": {},
     "output_type": "execute_result"
    }
   ],
   "source": [
    "sc"
   ]
  },
  {
   "cell_type": "markdown",
   "metadata": {},
   "source": [
    "## Create a Spark RDD on top of Elasticsearch (logs-endpoint-winevent-sysmon-* as source)"
   ]
  },
  {
   "cell_type": "code",
   "execution_count": 20,
   "metadata": {},
   "outputs": [
    {
     "data": {
      "text/plain": [
       "(u'2053487453',\n",
       " {u'@meta': {u'log': {u'timestamp': u'2018-02-20T17:16:29.294Z'}},\n",
       "  u'@timestamp': u'2018-02-20T17:16:29.299Z',\n",
       "  u'@version': u'1',\n",
       "  u'action': u'processaccess',\n",
       "  u'beat': {u'hostname': u'DESKTOP-29DJI4T',\n",
       "   u'name': u'DESKTOP-29DJI4T',\n",
       "   u'version': u'6.1.2'},\n",
       "  u'computer_name': u'DESKTOP-29DJI4T',\n",
       "  u'event_id': 10,\n",
       "  u'level': u'Information',\n",
       "  u'log_name': u'Microsoft-Windows-Sysmon/Operational',\n",
       "  u'opcode': u'Info',\n",
       "  u'process': {u'calltrace': u'C:\\\\WINDOWS\\\\SYSTEM32\\\\ntdll.dll+a0344|C:\\\\WINDOWS\\\\System32\\\\KERNELBASE.dll+3dc5d|C:\\\\ProgramData\\\\Microsoft\\\\Windows Defender\\\\Definition Updates\\\\{14FF058F-73CB-47DF-835D-8B578620CD35}\\\\mpengine.dll+ec56d|C:\\\\ProgramData\\\\Microsoft\\\\Windows Defender\\\\Definition Updates\\\\{14FF058F-73CB-47DF-835D-8B578620CD35}\\\\mpengine.dll+ec490|C:\\\\ProgramData\\\\Microsoft\\\\Windows Defender\\\\Definition Updates\\\\{14FF058F-73CB-47DF-835D-8B578620CD35}\\\\mpengine.dll+6a4fdd|C:\\\\ProgramData\\\\Microsoft\\\\Windows Defender\\\\Definition Updates\\\\{14FF058F-73CB-47DF-835D-8B578620CD35}\\\\mpengine.dll+6a6b42|C:\\\\ProgramData\\\\Microsoft\\\\Windows Defender\\\\Definition Updates\\\\{14FF058F-73CB-47DF-835D-8B578620CD35}\\\\mpengine.dll+69e6da|C:\\\\ProgramData\\\\Microsoft\\\\Windows Defender\\\\Definition Updates\\\\{14FF058F-73CB-47DF-835D-8B578620CD35}\\\\mpengine.dll+69caa0|C:\\\\ProgramData\\\\Microsoft\\\\Windows Defender\\\\Definition Updates\\\\{14FF058F-73CB-47DF-835D-8B578620CD35}\\\\mpengine.dll+202a6|C:\\\\ProgramData\\\\Microsoft\\\\Windows Defender\\\\Definition Updates\\\\{14FF058F-73CB-47DF-835D-8B578620CD35}\\\\mpengine.dll+77f76e|C:\\\\ProgramData\\\\Microsoft\\\\Windows Defender\\\\Definition Updates\\\\{14FF058F-73CB-47DF-835D-8B578620CD35}\\\\mpengine.dll+471b|C:\\\\ProgramData\\\\Microsoft\\\\Windows Defender\\\\Definition Updates\\\\{14FF058F-73CB-47DF-835D-8B578620CD35}\\\\mpengine.dll+2b5e|C:\\\\ProgramData\\\\Microsoft\\\\Windows Defender\\\\Definition Updates\\\\{14FF058F-73CB-47DF-835D-8B578620CD35}\\\\mpengine.dll+98d9c|C:\\\\ProgramData\\\\Microsoft\\\\Windows Defender\\\\Definition Updates\\\\{14FF058F-73CB-47DF-835D-8B578620CD35}\\\\mpengine.dll+11125f|C:\\\\ProgramData\\\\Microsoft\\\\Windows Defender\\\\Definition Updates\\\\{14FF058F-73CB-47DF-835D-8B578620CD35}\\\\mpengine.dll+110ef6|C:\\\\ProgramData\\\\Microsoft\\\\Windows Defender\\\\platform\\\\4.12.17007.18011-0\\\\mpsvc.dll+117f8|C:\\\\ProgramData\\\\Microsoft\\\\Windows Defender\\\\platform\\\\4.12.17007.18011-0\\\\mprtp.dll+12113|C:\\\\ProgramData\\\\Microsoft\\\\Windows Defender\\\\platform\\\\4.12.17007.18011-0\\\\mprtp.dll+33318|C:\\\\ProgramData\\\\Microsoft\\\\Windows Defender\\\\platform\\\\4.12.17007.18011-0\\\\mpclient.dll+7cb40|C:\\\\WINDOWS\\\\SYSTEM32\\\\ntdll.dll+362a1|C:\\\\WINDOWS\\\\SYSTEM32\\\\ntdll.dll+346fe|C:\\\\WINDOWS\\\\System32\\\\KERNEL32.DLL+11fe4|C:\\\\WINDOWS\\\\SYSTEM32\\\\ntdll.dll+6efc1',\n",
       "   u'grantedaccess': u'0x1000',\n",
       "   u'guid': u'{A98268C1-E251-5A83-0000-0010F50A0200}',\n",
       "   u'id': 2120,\n",
       "   u'path': u'C:\\\\ProgramData\\\\Microsoft\\\\Windows Defender\\\\platform\\\\4.12.17007.18011-0\\\\MsMpEng.exe',\n",
       "   u'target': {u'guid': u'{A98268C1-E251-5A83-0000-0010B4120200}',\n",
       "    u'id': 2152,\n",
       "    u'path': u'C:\\\\Program Files\\\\winlogbeat\\\\winlogbeat.exe'},\n",
       "   u'threadid': 3900},\n",
       "  u'process_id': 1896,\n",
       "  u'provider_guid': u'{5770385F-C22A-43E0-BF4C-06F5698FFBD9}',\n",
       "  u'record_number': u'9876601',\n",
       "  u'source_name': u'Microsoft-Windows-Sysmon',\n",
       "  u'subject': {u'user': {u'domain': u'NT AUTHORITY',\n",
       "    u'name': u'SYSTEM',\n",
       "    u'sid': u'S-1-5-18'}},\n",
       "  u'task': u'Process accessed (rule: ProcessAccess)',\n",
       "  u'thread_id': 3460,\n",
       "  u'type': u'wineventlog',\n",
       "  u'user': {u'type': u'User'},\n",
       "  u'version': 3})"
      ]
     },
     "execution_count": 20,
     "metadata": {},
     "output_type": "execute_result"
    }
   ],
   "source": [
    "es_rdd = sc.newAPIHadoopRDD(\n",
    "    inputFormatClass=\"org.elasticsearch.hadoop.mr.EsInputFormat\",\n",
    "    keyClass=\"org.apache.hadoop.io.NullWritable\",\n",
    "    valueClass=\"org.elasticsearch.hadoop.mr.LinkedMapWritable\",\n",
    "    conf={ \n",
    "        \"es.resource\" : \"logs-endpoint-winevent-sysmon-*/doc\",\n",
    "        \"es.nodes\" : \"172.18.0.2\"\n",
    "    })\n",
    "es_rdd.first()"
   ]
  },
  {
   "cell_type": "markdown",
   "metadata": {},
   "source": [
    "## Create a Spark RDD on top of Elasticsearch (logs-endpoint-winevent-security-* as source)"
   ]
  },
  {
   "cell_type": "code",
   "execution_count": 19,
   "metadata": {},
   "outputs": [
    {
     "data": {
      "text/plain": [
       "(u'2852068011',\n",
       " {u'@timestamp': u'2018-02-21T00:08:12.345Z',\n",
       "  u'@version': u'1',\n",
       "  u'beat': {u'hostname': u'DESKTOP-29DJI4T',\n",
       "   u'name': u'DESKTOP-29DJI4T',\n",
       "   u'version': u'6.1.2'},\n",
       "  u'computer_name': u'DESKTOP-29DJI4T',\n",
       "  u'event_data': {},\n",
       "  u'event_id': 4616,\n",
       "  u'keywords': (u'Audit Success',),\n",
       "  u'level': u'Information',\n",
       "  u'log_name': u'Security',\n",
       "  u'message': u'The system time was changed.\\n\\nSubject:\\n\\tSecurity ID:\\t\\tS-1-5-18\\n\\tAccount Name:\\t\\tDESKTOP-29DJI4T$\\n\\tAccount Domain:\\t\\tWORKGROUP\\n\\tLogon ID:\\t\\t0x3E7\\n\\nProcess Information:\\n\\tProcess ID:\\t0x834\\n\\tName:\\t\\tC:\\\\Program Files\\\\VMware\\\\VMware Tools\\\\vmtoolsd.exe\\n\\nPrevious Time:\\t\\t\\u200e2018\\u200e-\\u200e02\\u200e-\\u200e20T17:16:32.271066000Z\\nNew Time:\\t\\t\\u200e2018\\u200e-\\u200e02\\u200e-\\u200e21T00:08:12.117000000Z\\n\\nThis event is generated when the system time is changed. It is normal for the Windows Time Service, which runs with System privilege, to change the system time on a regular basis. Other system time changes may be indicative of attempts to tamper with the computer.',\n",
       "  u'opcode': u'Info',\n",
       "  u'process': {u'id': 0,\n",
       "   u'path': u'C:\\\\Program Files\\\\VMware\\\\VMware Tools\\\\vmtoolsd.exe'},\n",
       "  u'process_id': 4,\n",
       "  u'provider_guid': u'{54849625-5478-4994-A5BA-3E3B0328C30D}',\n",
       "  u'record_number': u'11346',\n",
       "  u'source_name': u'Microsoft-Windows-Security-Auditing',\n",
       "  u'subject': {u'logon': {u'id': u'0x3e7'},\n",
       "   u'user': {u'domain': u'WORKGROUP',\n",
       "    u'name': u'DESKTOP-29DJI4T$',\n",
       "    u'sid': u'S-1-5-18'}},\n",
       "  u'system': {u'newtime': u'2018-02-21T00:08:12.117000000Z',\n",
       "   u'previoustime': u'2018-02-20T17:16:32.271066000Z'},\n",
       "  u'task': u'Security State Change',\n",
       "  u'thread_id': 4300,\n",
       "  u'type': u'wineventlog',\n",
       "  u'version': 1})"
      ]
     },
     "execution_count": 19,
     "metadata": {},
     "output_type": "execute_result"
    }
   ],
   "source": [
    "es_rdd = sc.newAPIHadoopRDD(\n",
    "    inputFormatClass=\"org.elasticsearch.hadoop.mr.EsInputFormat\",\n",
    "    keyClass=\"org.apache.hadoop.io.NullWritable\",\n",
    "    valueClass=\"org.elasticsearch.hadoop.mr.LinkedMapWritable\",\n",
    "    conf={ \n",
    "        \"es.resource\" : \"logs-endpoint-winevent-security-*/doc\",\n",
    "        \"es.nodes\" : \"172.18.0.2\"\n",
    "    })\n",
    "es_rdd.first()"
   ]
  },
  {
   "cell_type": "markdown",
   "metadata": {},
   "source": [
    "## Import Graphframes package"
   ]
  },
  {
   "cell_type": "code",
   "execution_count": 11,
   "metadata": {},
   "outputs": [],
   "source": [
    "from graphframes import *"
   ]
  },
  {
   "cell_type": "code",
   "execution_count": 5,
   "metadata": {},
   "outputs": [
    {
     "name": "stdout",
     "output_type": "stream",
     "text": [
      "+---+--------+\n",
      "| id|inDegree|\n",
      "+---+--------+\n",
      "|  c|       1|\n",
      "|  b|       2|\n",
      "+---+--------+\n",
      "\n"
     ]
    },
    {
     "data": {
      "text/plain": [
       "2"
      ]
     },
     "execution_count": 5,
     "metadata": {},
     "output_type": "execute_result"
    }
   ],
   "source": [
    "# Create a Vertex DataFrame with unique ID column \"id\"\n",
    "v = sqlContext.createDataFrame([\n",
    "  (\"a\", \"Alice\", 34),\n",
    "  (\"b\", \"Bob\", 36),\n",
    "  (\"c\", \"Charlie\", 30),\n",
    "], [\"id\", \"name\", \"age\"])\n",
    "# Create an Edge DataFrame with \"src\" and \"dst\" columns\n",
    "e = sqlContext.createDataFrame([\n",
    "  (\"a\", \"b\", \"friend\"),\n",
    "  (\"b\", \"c\", \"follow\"),\n",
    "  (\"c\", \"b\", \"follow\"),\n",
    "], [\"src\", \"dst\", \"relationship\"])\n",
    "# Create a GraphFrame\n",
    "from graphframes import *\n",
    "g = GraphFrame(v, e)\n",
    "\n",
    "# Query: Get in-degree of each vertex.\n",
    "g.inDegrees.show()\n",
    "\n",
    "# Query: Count the number of \"follow\" connections in the graph.\n",
    "g.edges.filter(\"relationship = 'follow'\").count()"
   ]
  },
  {
   "cell_type": "markdown",
   "metadata": {},
   "source": [
    "## Create a basic SparkSession"
   ]
  },
  {
   "cell_type": "code",
   "execution_count": 14,
   "metadata": {},
   "outputs": [],
   "source": [
    "spark = SparkSession \\\n",
    "    .builder \\\n",
    "    .appName(\"HELK\") \\\n",
    "    .config(\"es.read.field.as.array.include\", \"tags\") \\\n",
    "    .config(\"es.nodes\",\"172.18.0.2:9200\") \\\n",
    "    .getOrCreate()"
   ]
  },
  {
   "cell_type": "markdown",
   "metadata": {},
   "source": [
    "## Spark SQL Basic query (logs-endpoint-winevent-security-* as source)"
   ]
  },
  {
   "cell_type": "code",
   "execution_count": 15,
   "metadata": {},
   "outputs": [],
   "source": [
    "df = spark.read.format(\"org.elasticsearch.spark.sql\").load(\"logs-endpoint-winevent-security-*/doc\")"
   ]
  },
  {
   "cell_type": "code",
   "execution_count": 16,
   "metadata": {},
   "outputs": [
    {
     "name": "stdout",
     "output_type": "stream",
     "text": [
      "root\n",
      " |-- @timestamp: timestamp (nullable = true)\n",
      " |-- @version: string (nullable = true)\n",
      " |-- activity_id: string (nullable = true)\n",
      " |-- beat: struct (nullable = true)\n",
      " |    |-- hostname: string (nullable = true)\n",
      " |    |-- name: string (nullable = true)\n",
      " |    |-- version: string (nullable = true)\n",
      " |-- computer_name: string (nullable = true)\n",
      " |-- destination: struct (nullable = true)\n",
      " |    |-- port: struct (nullable = true)\n",
      " |    |    |-- number: integer (nullable = true)\n",
      " |-- event_data: struct (nullable = true)\n",
      " |-- event_id: long (nullable = true)\n",
      " |-- impersonationlevel: string (nullable = true)\n",
      " |-- keywords: string (nullable = true)\n",
      " |-- level: string (nullable = true)\n",
      " |-- log_name: string (nullable = true)\n",
      " |-- logon: struct (nullable = true)\n",
      " |    |-- authenticationpackage: string (nullable = true)\n",
      " |    |-- elevatedtoken: string (nullable = true)\n",
      " |    |-- keylength: string (nullable = true)\n",
      " |    |-- packagename: string (nullable = true)\n",
      " |    |-- privilegesassigned: string (nullable = true)\n",
      " |    |-- processname: string (nullable = true)\n",
      " |    |-- restrictedadminmode: string (nullable = true)\n",
      " |    |-- transmittedservices: string (nullable = true)\n",
      " |    |-- type: string (nullable = true)\n",
      " |    |-- virtualaccount: string (nullable = true)\n",
      " |-- message: string (nullable = true)\n",
      " |-- opcode: string (nullable = true)\n",
      " |-- process: struct (nullable = true)\n",
      " |    |-- id: integer (nullable = true)\n",
      " |    |-- parent: struct (nullable = true)\n",
      " |    |    |-- id: integer (nullable = true)\n",
      " |    |-- path: string (nullable = true)\n",
      " |    |-- target: struct (nullable = true)\n",
      " |    |    |-- id: integer (nullable = true)\n",
      " |    |-- terminalsessionid: integer (nullable = true)\n",
      " |-- process_id: long (nullable = true)\n",
      " |-- provider_guid: string (nullable = true)\n",
      " |-- record_number: string (nullable = true)\n",
      " |-- source: struct (nullable = true)\n",
      " |    |-- hostname: string (nullable = true)\n",
      " |    |-- ip: string (nullable = true)\n",
      " |    |-- port: struct (nullable = true)\n",
      " |    |    |-- number: integer (nullable = true)\n",
      " |-- source_name: string (nullable = true)\n",
      " |-- subject: struct (nullable = true)\n",
      " |    |-- logon: struct (nullable = true)\n",
      " |    |    |-- id: string (nullable = true)\n",
      " |    |-- user: struct (nullable = true)\n",
      " |    |    |-- domain: string (nullable = true)\n",
      " |    |    |-- name: string (nullable = true)\n",
      " |    |    |-- sid: string (nullable = true)\n",
      " |-- system: struct (nullable = true)\n",
      " |    |-- newtime: timestamp (nullable = true)\n",
      " |    |-- previoustime: timestamp (nullable = true)\n",
      " |-- task: string (nullable = true)\n",
      " |-- thread_id: long (nullable = true)\n",
      " |-- type: string (nullable = true)\n",
      " |-- user: struct (nullable = true)\n",
      " |    |-- domain: string (nullable = true)\n",
      " |    |-- logon: struct (nullable = true)\n",
      " |    |    |-- guid: string (nullable = true)\n",
      " |    |    |-- id: string (nullable = true)\n",
      " |    |    |-- linkedid: string (nullable = true)\n",
      " |    |-- name: string (nullable = true)\n",
      " |    |-- networkaccount: struct (nullable = true)\n",
      " |    |    |-- domain: string (nullable = true)\n",
      " |    |    |-- name: string (nullable = true)\n",
      " |    |-- sid: string (nullable = true)\n",
      " |-- version: integer (nullable = true)\n",
      "\n"
     ]
    }
   ],
   "source": [
    "df.printSchema()"
   ]
  },
  {
   "cell_type": "code",
   "execution_count": 18,
   "metadata": {},
   "outputs": [
    {
     "name": "stdout",
     "output_type": "stream",
     "text": [
      "+--------------------+\n",
      "|                task|\n",
      "+--------------------+\n",
      "|Security State Ch...|\n",
      "|       Special Logon|\n",
      "|               Logon|\n",
      "+--------------------+\n",
      "\n"
     ]
    }
   ],
   "source": [
    "df.select(\"task\").show()"
   ]
  }
 ],
 "metadata": {
  "kernelspec": {
   "display_name": "Python 2",
   "language": "python",
   "name": "python2"
  },
  "language_info": {
   "codemirror_mode": {
    "name": "ipython",
    "version": 2
   },
   "file_extension": ".py",
   "mimetype": "text/x-python",
   "name": "python",
   "nbconvert_exporter": "python",
   "pygments_lexer": "ipython2",
   "version": "2.7.12"
  }
 },
 "nbformat": 4,
 "nbformat_minor": 2
}
