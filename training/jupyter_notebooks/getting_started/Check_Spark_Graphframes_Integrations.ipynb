{
 "cells": [
  {
   "cell_type": "markdown",
   "metadata": {},
   "source": [
    "# HELK: Checking Spark and Graphframe Integrations\n",
    "----------------------------------------------------------------------------\n",
    "## Goals:\n",
    "* Test if Jupyter can talk to Spark & Graphframes\n",
    "* Test if Spark & Graphframes can pull data from ES\n",
    "* Show the basics of the HELK integrations with advanced analytics libraries"
   ]
  },
  {
   "cell_type": "markdown",
   "metadata": {},
   "source": [
    "## Check the Spark Context via the variable sc "
   ]
  },
  {
   "cell_type": "code",
   "execution_count": 1,
   "metadata": {},
   "outputs": [
    {
     "data": {
      "text/html": [
       "\n",
       "        <div>\n",
       "            <p><b>SparkContext</b></p>\n",
       "\n",
       "            <p><a href=\"http://192.168.1.243:4040\">Spark UI</a></p>\n",
       "\n",
       "            <dl>\n",
       "              <dt>Version</dt>\n",
       "                <dd><code>v2.2.1</code></dd>\n",
       "              <dt>Master</dt>\n",
       "                <dd><code>local[*]</code></dd>\n",
       "              <dt>AppName</dt>\n",
       "                <dd><code>PySparkShell</code></dd>\n",
       "            </dl>\n",
       "        </div>\n",
       "        "
      ],
      "text/plain": [
       "<SparkContext master=local[*] appName=PySparkShell>"
      ]
     },
     "execution_count": 1,
     "metadata": {},
     "output_type": "execute_result"
    }
   ],
   "source": [
    "sc"
   ]
  },
  {
   "cell_type": "markdown",
   "metadata": {},
   "source": [
    "## Create a Spark RDD on top of Elasticsearch (logs-endpoint-winevent-sysmon-* as source)"
   ]
  },
  {
   "cell_type": "code",
   "execution_count": 2,
   "metadata": {},
   "outputs": [
    {
     "data": {
      "text/plain": [
       "(u'EyaM12ABGZB0cH7uy-kS',\n",
       " {u'@timestamp': u'2018-01-08T20:19:23.195Z',\n",
       "  u'@version': u'1',\n",
       "  u'beat': {u'hostname': u'WD-HR001',\n",
       "   u'name': u'WD-HR001',\n",
       "   u'version': u'6.0.0'},\n",
       "  u'computer_name': u'WD-HR001.wardog.com',\n",
       "  u'event': {u'creationtime': {u'utc': u'2018-01-08 20:19:22.978'}},\n",
       "  u'event_id': 9,\n",
       "  u'host': u'WD-HR001',\n",
       "  u'level': u'Information',\n",
       "  u'log_name': u'Microsoft-Windows-Sysmon/Operational',\n",
       "  u'opcode': u'Info',\n",
       "  u'process': {u'guid': u'{DBA5A4A0-2F96-5A50-0000-00106D560100}',\n",
       "   u'id': 1428,\n",
       "   u'name': u'C:\\\\Windows\\\\System32\\\\svchost.exe'},\n",
       "  u'process_id': 2216,\n",
       "  u'provider_guid': u'{5770385F-C22A-43E0-BF4C-06F5698FFBD9}',\n",
       "  u'rawaccess': {u'read': {u'device': u'\\\\Device\\\\HarddiskVolume2'}},\n",
       "  u'record_number': u'1006036',\n",
       "  u'source_name': u'Microsoft-Windows-Sysmon',\n",
       "  u'subject': {u'user': {u'domain': u'NT AUTHORITY',\n",
       "    u'name': u'SYSTEM',\n",
       "    u'sid': u'S-1-5-18'}},\n",
       "  u'tags': (u'beats_input_codec_plain_applied', u'_grokparsefailure'),\n",
       "  u'task': u'RawAccessRead detected (rule: RawAccessRead)',\n",
       "  u'thread_id': 3548,\n",
       "  u'type': u'wineventlog',\n",
       "  u'user': {u'type': u'User'},\n",
       "  u'version': 2})"
      ]
     },
     "execution_count": 2,
     "metadata": {},
     "output_type": "execute_result"
    }
   ],
   "source": [
    "es_rdd = sc.newAPIHadoopRDD(\n",
    "    inputFormatClass=\"org.elasticsearch.hadoop.mr.EsInputFormat\",\n",
    "    keyClass=\"org.apache.hadoop.io.NullWritable\",\n",
    "    valueClass=\"org.elasticsearch.hadoop.mr.LinkedMapWritable\",\n",
    "    conf={ \"es.resource\" : \"logs-endpoint-winevent-sysmon-*/doc\" })\n",
    "es_rdd.first()"
   ]
  },
  {
   "cell_type": "markdown",
   "metadata": {},
   "source": [
    "## Create a Spark RDD on top of Elasticsearch (logs-endpoint-winevent-security-* as source)"
   ]
  },
  {
   "cell_type": "code",
   "execution_count": 3,
   "metadata": {},
   "outputs": [
    {
     "data": {
      "text/plain": [
       "(u'tiZ912ABGZB0cH7uLt6P',\n",
       " {u'@timestamp': u'2018-01-08T20:31:24.258Z',\n",
       "  u'@version': u'1',\n",
       "  u'beat': {u'hostname': u'WD-DC001',\n",
       "   u'name': u'WD-DC001',\n",
       "   u'version': u'6.1.1'},\n",
       "  u'computer_name': u'WD-DC001.wardog.com',\n",
       "  u'event_data': {},\n",
       "  u'event_id': 4703,\n",
       "  u'host': u'WD-DC001',\n",
       "  u'keywords': (u'Audit Success',),\n",
       "  u'level': u'Information',\n",
       "  u'log_name': u'Security',\n",
       "  u'message': u'A token right was adjusted.\\n\\nSubject:\\n\\tSecurity ID:\\t\\tS-1-5-18\\n\\tAccount Name:\\t\\tWD-DC001$\\n\\tAccount Domain:\\t\\tWARDOG\\n\\tLogon ID:\\t\\t0x3E7\\n\\nTarget Account:\\n\\tSecurity ID:\\t\\tS-1-0-0\\n\\tAccount Name:\\t\\tWD-DC001$\\n\\tAccount Domain:\\t\\tWARDOG\\n\\tLogon ID:\\t\\t0x3E7\\n\\nProcess Information:\\n\\tProcess ID:\\t\\t0xe8\\n\\tProcess Name:\\t\\tC:\\\\Windows\\\\System32\\\\svchost.exe\\n\\nEnabled Privileges:\\n\\t\\t\\tSeAssignPrimaryTokenPrivilege\\n\\t\\t\\tSeIncreaseQuotaPrivilege\\n\\t\\t\\tSeSecurityPrivilege\\n\\t\\t\\tSeTakeOwnershipPrivilege\\n\\t\\t\\tSeLoadDriverPrivilege\\n\\t\\t\\tSeSystemtimePrivilege\\n\\t\\t\\tSeBackupPrivilege\\n\\t\\t\\tSeRestorePrivilege\\n\\t\\t\\tSeShutdownPrivilege\\n\\t\\t\\tSeSystemEnvironmentPrivilege\\n\\t\\t\\tSeUndockPrivilege\\n\\t\\t\\tSeManageVolumePrivilege\\n\\nDisabled Privileges:\\n\\t\\t\\t-',\n",
       "  u'opcode': u'Info',\n",
       "  u'process': {u'id': 0, u'name': u'C:\\\\Windows\\\\System32\\\\svchost.exe'},\n",
       "  u'process_id': 4,\n",
       "  u'provider_guid': u'{54849625-5478-4994-A5BA-3E3B0328C30D}',\n",
       "  u'record_number': u'508597',\n",
       "  u'source_name': u'Microsoft-Windows-Security-Auditing',\n",
       "  u'tags': (u'beats_input_codec_plain_applied',),\n",
       "  u'task': u'Token Right Adjusted Events',\n",
       "  u'thread_id': 4800,\n",
       "  u'type': u'wineventlog',\n",
       "  u'user': {u'domain': u'WARDOG',\n",
       "   u'logon': {u'id': u'0x3e7'},\n",
       "   u'name': u'WD-DC001$',\n",
       "   u'sid': u'S-1-5-18',\n",
       "   u'target': {u'disabledprivilegelist': u'-',\n",
       "    u'domain': u'WARDOG',\n",
       "    u'enabledprivilegelist': u'SeAssignPrimaryTokenPrivilege\\n\\t\\t\\tSeIncreaseQuotaPrivilege\\n\\t\\t\\tSeSecurityPrivilege\\n\\t\\t\\tSeTakeOwnershipPrivilege\\n\\t\\t\\tSeLoadDriverPrivilege\\n\\t\\t\\tSeSystemtimePrivilege\\n\\t\\t\\tSeBackupPrivilege\\n\\t\\t\\tSeRestorePrivilege\\n\\t\\t\\tSeShutdownPrivilege\\n\\t\\t\\tSeSystemEnvironmentPrivilege\\n\\t\\t\\tSeUndockPrivilege\\n\\t\\t\\tSeManageVolumePrivilege',\n",
       "    u'logonid': u'0x3e7',\n",
       "    u'name': u'WD-DC001$',\n",
       "    u'sid': u'S-1-0-0'}}})"
      ]
     },
     "execution_count": 3,
     "metadata": {},
     "output_type": "execute_result"
    }
   ],
   "source": [
    "es_rdd = sc.newAPIHadoopRDD(\n",
    "    inputFormatClass=\"org.elasticsearch.hadoop.mr.EsInputFormat\",\n",
    "    keyClass=\"org.apache.hadoop.io.NullWritable\",\n",
    "    valueClass=\"org.elasticsearch.hadoop.mr.LinkedMapWritable\",\n",
    "    conf={ \"es.resource\" : \"logs-endpoint-winevent-security-*/doc\" })\n",
    "es_rdd.first()"
   ]
  },
  {
   "cell_type": "markdown",
   "metadata": {},
   "source": [
    "## Import Graphframes package"
   ]
  },
  {
   "cell_type": "code",
   "execution_count": 4,
   "metadata": {},
   "outputs": [],
   "source": [
    "from graphframes import *"
   ]
  },
  {
   "cell_type": "code",
   "execution_count": 5,
   "metadata": {},
   "outputs": [
    {
     "name": "stdout",
     "output_type": "stream",
     "text": [
      "+---+--------+\n",
      "| id|inDegree|\n",
      "+---+--------+\n",
      "|  c|       1|\n",
      "|  b|       2|\n",
      "+---+--------+\n",
      "\n"
     ]
    },
    {
     "data": {
      "text/plain": [
       "2"
      ]
     },
     "execution_count": 5,
     "metadata": {},
     "output_type": "execute_result"
    }
   ],
   "source": [
    "# Create a Vertex DataFrame with unique ID column \"id\"\n",
    "v = sqlContext.createDataFrame([\n",
    "  (\"a\", \"Alice\", 34),\n",
    "  (\"b\", \"Bob\", 36),\n",
    "  (\"c\", \"Charlie\", 30),\n",
    "], [\"id\", \"name\", \"age\"])\n",
    "# Create an Edge DataFrame with \"src\" and \"dst\" columns\n",
    "e = sqlContext.createDataFrame([\n",
    "  (\"a\", \"b\", \"friend\"),\n",
    "  (\"b\", \"c\", \"follow\"),\n",
    "  (\"c\", \"b\", \"follow\"),\n",
    "], [\"src\", \"dst\", \"relationship\"])\n",
    "# Create a GraphFrame\n",
    "from graphframes import *\n",
    "g = GraphFrame(v, e)\n",
    "\n",
    "# Query: Get in-degree of each vertex.\n",
    "g.inDegrees.show()\n",
    "\n",
    "# Query: Count the number of \"follow\" connections in the graph.\n",
    "g.edges.filter(\"relationship = 'follow'\").count()"
   ]
  },
  {
   "cell_type": "markdown",
   "metadata": {},
   "source": [
    "## Create a basic SparkSession"
   ]
  },
  {
   "cell_type": "code",
   "execution_count": 6,
   "metadata": {},
   "outputs": [],
   "source": [
    "spark = SparkSession \\\n",
    "    .builder \\\n",
    "    .appName(\"HELK\") \\\n",
    "    .config(\"es.read.field.as.array.include\", \"tags\") \\\n",
    "    .getOrCreate()"
   ]
  },
  {
   "cell_type": "markdown",
   "metadata": {},
   "source": [
    "## Spark SQL Basic query (logs-endpoint-winevent-security-* as source)"
   ]
  },
  {
   "cell_type": "code",
   "execution_count": 7,
   "metadata": {},
   "outputs": [],
   "source": [
    "df = spark.read.format(\"org.elasticsearch.spark.sql\").load(\"logs-endpoint-winevent-security-*/doc\")"
   ]
  },
  {
   "cell_type": "code",
   "execution_count": 8,
   "metadata": {},
   "outputs": [
    {
     "name": "stdout",
     "output_type": "stream",
     "text": [
      "root\n",
      " |-- @timestamp: timestamp (nullable = true)\n",
      " |-- @version: string (nullable = true)\n",
      " |-- activity_id: string (nullable = true)\n",
      " |-- beat: struct (nullable = true)\n",
      " |    |-- hostname: string (nullable = true)\n",
      " |    |-- name: string (nullable = true)\n",
      " |    |-- version: string (nullable = true)\n",
      " |-- computer_name: string (nullable = true)\n",
      " |-- destination: struct (nullable = true)\n",
      " |    |-- hostnameid: string (nullable = true)\n",
      " |    |-- ip: string (nullable = true)\n",
      " |    |-- port: struct (nullable = true)\n",
      " |    |    |-- number: integer (nullable = true)\n",
      " |    |-- userid: string (nullable = true)\n",
      " |-- event_data: struct (nullable = true)\n",
      " |    |-- ActiveProfile: string (nullable = true)\n",
      " |-- event_id: long (nullable = true)\n",
      " |-- externaldevice: struct (nullable = true)\n",
      " |    |-- classid: string (nullable = true)\n",
      " |    |-- classname: string (nullable = true)\n",
      " |    |-- compatibleids: string (nullable = true)\n",
      " |    |-- description: string (nullable = true)\n",
      " |    |-- id: string (nullable = true)\n",
      " |    |-- locationinformation: string (nullable = true)\n",
      " |    |-- vendorids: string (nullable = true)\n",
      " |-- filtering: struct (nullable = true)\n",
      " |    |-- action: string (nullable = true)\n",
      " |    |-- calloutkey: string (nullable = true)\n",
      " |    |-- calloutname: string (nullable = true)\n",
      " |    |-- changetype: string (nullable = true)\n",
      " |    |-- conditions: string (nullable = true)\n",
      " |    |-- id: string (nullable = true)\n",
      " |    |-- key: string (nullable = true)\n",
      " |    |-- layerid: string (nullable = true)\n",
      " |    |-- layerkey: string (nullable = true)\n",
      " |    |-- layername: string (nullable = true)\n",
      " |    |-- name: string (nullable = true)\n",
      " |    |-- providerkey: string (nullable = true)\n",
      " |    |-- providername: string (nullable = true)\n",
      " |    |-- type: string (nullable = true)\n",
      " |    |-- weight: string (nullable = true)\n",
      " |-- firewall: struct (nullable = true)\n",
      " |    |-- ruleattr: string (nullable = true)\n",
      " |    |-- ruleid: string (nullable = true)\n",
      " |    |-- rulename: string (nullable = true)\n",
      " |-- host: string (nullable = true)\n",
      " |-- impersonationlevel: string (nullable = true)\n",
      " |-- keywords: string (nullable = true)\n",
      " |-- level: string (nullable = true)\n",
      " |-- log_name: string (nullable = true)\n",
      " |-- logon: struct (nullable = true)\n",
      " |    |-- authenticationpackage: string (nullable = true)\n",
      " |    |-- elevatedtoken: string (nullable = true)\n",
      " |    |-- keylength: string (nullable = true)\n",
      " |    |-- packagename: string (nullable = true)\n",
      " |    |-- privilegesassigned: string (nullable = true)\n",
      " |    |-- processname: string (nullable = true)\n",
      " |    |-- restrictedadminmode: string (nullable = true)\n",
      " |    |-- transmittedservices: string (nullable = true)\n",
      " |    |-- type: string (nullable = true)\n",
      " |    |-- virtualaccount: string (nullable = true)\n",
      " |-- message: string (nullable = true)\n",
      " |-- network: struct (nullable = true)\n",
      " |    |-- direction: string (nullable = true)\n",
      " |    |-- filterrtid: string (nullable = true)\n",
      " |    |-- layername: string (nullable = true)\n",
      " |    |-- layerrtid: string (nullable = true)\n",
      " |    |-- protocol: string (nullable = true)\n",
      " |-- object: struct (nullable = true)\n",
      " |    |-- access: struct (nullable = true)\n",
      " |    |    |-- listrequested: string (nullable = true)\n",
      " |    |    |-- maskrequested: string (nullable = true)\n",
      " |    |    |-- reason: string (nullable = true)\n",
      " |    |    |-- transactionid: string (nullable = true)\n",
      " |    |-- additionalinfo: string (nullable = true)\n",
      " |    |-- additionalinfo2: string (nullable = true)\n",
      " |    |-- handleid: string (nullable = true)\n",
      " |    |-- name: string (nullable = true)\n",
      " |    |-- newsddl: string (nullable = true)\n",
      " |    |-- oldsddl: string (nullable = true)\n",
      " |    |-- operationtype: string (nullable = true)\n",
      " |    |-- privilegelist: string (nullable = true)\n",
      " |    |-- properties: string (nullable = true)\n",
      " |    |-- resourceattributes: string (nullable = true)\n",
      " |    |-- restrictedsidcount: string (nullable = true)\n",
      " |    |-- server: string (nullable = true)\n",
      " |    |-- type: string (nullable = true)\n",
      " |-- opcode: string (nullable = true)\n",
      " |-- proces: struct (nullable = true)\n",
      " |    |-- tokenelevationtype: string (nullable = true)\n",
      " |-- process: struct (nullable = true)\n",
      " |    |-- handleid: string (nullable = true)\n",
      " |    |-- id: integer (nullable = true)\n",
      " |    |-- mandatorylevel: string (nullable = true)\n",
      " |    |-- name: string (nullable = true)\n",
      " |    |-- parent: struct (nullable = true)\n",
      " |    |    |-- id: integer (nullable = true)\n",
      " |    |    |-- name: string (nullable = true)\n",
      " |    |-- status: string (nullable = true)\n",
      " |    |-- target: struct (nullable = true)\n",
      " |    |    |-- handleid: string (nullable = true)\n",
      " |    |    |-- id: integer (nullable = true)\n",
      " |    |-- terminalsessionid: integer (nullable = true)\n",
      " |-- process_id: long (nullable = true)\n",
      " |-- provider_guid: string (nullable = true)\n",
      " |-- record_number: string (nullable = true)\n",
      " |-- service: struct (nullable = true)\n",
      " |    |-- name: string (nullable = true)\n",
      " |    |-- privilegelist: string (nullable = true)\n",
      " |    |-- ticket: struct (nullable = true)\n",
      " |    |    |-- id: string (nullable = true)\n",
      " |    |    |-- name: string (nullable = true)\n",
      " |    |    |-- preauthtype: string (nullable = true)\n",
      " |    |    |-- requested: string (nullable = true)\n",
      " |    |    |-- status: string (nullable = true)\n",
      " |-- share: struct (nullable = true)\n",
      " |    |-- localpath: string (nullable = true)\n",
      " |    |-- name: string (nullable = true)\n",
      " |    |-- relativetargetname: string (nullable = true)\n",
      " |-- source: struct (nullable = true)\n",
      " |    |-- hostname: string (nullable = true)\n",
      " |    |-- hostnameinfo: string (nullable = true)\n",
      " |    |-- ip: string (nullable = true)\n",
      " |    |-- port: struct (nullable = true)\n",
      " |    |    |-- number: integer (nullable = true)\n",
      " |-- source_name: string (nullable = true)\n",
      " |-- subject: struct (nullable = true)\n",
      " |    |-- logon: struct (nullable = true)\n",
      " |    |    |-- id: string (nullable = true)\n",
      " |    |-- user: struct (nullable = true)\n",
      " |    |    |-- domain: string (nullable = true)\n",
      " |    |    |-- name: string (nullable = true)\n",
      " |    |    |-- sid: string (nullable = true)\n",
      " |-- system: struct (nullable = true)\n",
      " |    |-- newtime: timestamp (nullable = true)\n",
      " |    |-- previoustime: timestamp (nullable = true)\n",
      " |-- tags: array (nullable = true)\n",
      " |    |-- element: string (containsNull = true)\n",
      " |-- task: string (nullable = true)\n",
      " |-- task_name: string (nullable = true)\n",
      " |-- task_newcontent: string (nullable = true)\n",
      " |-- thread_id: long (nullable = true)\n",
      " |-- ticket: struct (nullable = true)\n",
      " |    |-- encryptiontype: string (nullable = true)\n",
      " |    |-- options: string (nullable = true)\n",
      " |-- type: string (nullable = true)\n",
      " |-- user: struct (nullable = true)\n",
      " |    |-- access: struct (nullable = true)\n",
      " |    |    |-- reason: string (nullable = true)\n",
      " |    |-- domain: string (nullable = true)\n",
      " |    |-- explicit: struct (nullable = true)\n",
      " |    |    |-- domain: string (nullable = true)\n",
      " |    |    |-- logonguid: string (nullable = true)\n",
      " |    |    |-- name: string (nullable = true)\n",
      " |    |-- groupmembership: string (nullable = true)\n",
      " |    |-- logon: struct (nullable = true)\n",
      " |    |    |-- guid: string (nullable = true)\n",
      " |    |    |-- id: string (nullable = true)\n",
      " |    |    |-- linkedid: string (nullable = true)\n",
      " |    |-- name: string (nullable = true)\n",
      " |    |-- networkaccount: struct (nullable = true)\n",
      " |    |    |-- domain: string (nullable = true)\n",
      " |    |    |-- name: string (nullable = true)\n",
      " |    |-- principal: struct (nullable = true)\n",
      " |    |    |-- domain: string (nullable = true)\n",
      " |    |    |-- id: string (nullable = true)\n",
      " |    |    |-- name: string (nullable = true)\n",
      " |    |    |-- sid: string (nullable = true)\n",
      " |    |-- sessionid: string (nullable = true)\n",
      " |    |-- sid: string (nullable = true)\n",
      " |    |-- target: struct (nullable = true)\n",
      " |    |    |-- disabledprivilegelist: string (nullable = true)\n",
      " |    |    |-- domain: string (nullable = true)\n",
      " |    |    |-- enabledprivilegelist: string (nullable = true)\n",
      " |    |    |-- logonid: string (nullable = true)\n",
      " |    |    |-- name: string (nullable = true)\n",
      " |    |    |-- sid: string (nullable = true)\n",
      " |-- version: integer (nullable = true)\n",
      "\n"
     ]
    }
   ],
   "source": [
    "df.printSchema()"
   ]
  },
  {
   "cell_type": "code",
   "execution_count": 9,
   "metadata": {},
   "outputs": [
    {
     "name": "stdout",
     "output_type": "stream",
     "text": [
      "+--------------------+\n",
      "|                task|\n",
      "+--------------------+\n",
      "|Token Right Adjus...|\n",
      "|Filtering Platfor...|\n",
      "|Filtering Platfor...|\n",
      "|Filtering Platfor...|\n",
      "|Filtering Platfor...|\n",
      "|Filtering Platfor...|\n",
      "|Token Right Adjus...|\n",
      "|Filtering Platfor...|\n",
      "|Token Right Adjus...|\n",
      "|Token Right Adjus...|\n",
      "|Token Right Adjus...|\n",
      "|Token Right Adjus...|\n",
      "|Token Right Adjus...|\n",
      "|Token Right Adjus...|\n",
      "|Token Right Adjus...|\n",
      "|Filtering Platfor...|\n",
      "|Filtering Platfor...|\n",
      "|Filtering Platfor...|\n",
      "|Token Right Adjus...|\n",
      "|Token Right Adjus...|\n",
      "+--------------------+\n",
      "only showing top 20 rows\n",
      "\n"
     ]
    }
   ],
   "source": [
    "df.select(\"task\").show()"
   ]
  }
 ],
 "metadata": {
  "kernelspec": {
   "display_name": "Python 2",
   "language": "python",
   "name": "python2"
  },
  "language_info": {
   "codemirror_mode": {
    "name": "ipython",
    "version": 2
   },
   "file_extension": ".py",
   "mimetype": "text/x-python",
   "name": "python",
   "nbconvert_exporter": "python",
   "pygments_lexer": "ipython2",
   "version": "2.7.12"
  }
 },
 "nbformat": 4,
 "nbformat_minor": 2
}
